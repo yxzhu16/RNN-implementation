{
 "cells": [
  {
   "cell_type": "markdown",
   "metadata": {
    "colab_type": "text",
    "id": "SjndRzjVTDSx"
   },
   "source": [
    "Download data"
   ]
  },
  {
   "cell_type": "code",
   "execution_count": 0,
   "metadata": {
    "colab": {},
    "colab_type": "code",
    "id": "HeeD4VZ0TBm9"
   },
   "outputs": [],
   "source": [
    "!wget https://download.pytorch.org/tutorial/data.zip\n",
    "!unzip data.zip\n",
    "!ls"
   ]
  },
  {
   "cell_type": "code",
   "execution_count": 0,
   "metadata": {
    "colab": {},
    "colab_type": "code",
    "id": "4tSGA3X6dURt"
   },
   "outputs": [],
   "source": [
    "%matplotlib inline"
   ]
  },
  {
   "cell_type": "markdown",
   "metadata": {
    "colab_type": "text",
    "id": "MRMSa-PEdURy"
   },
   "source": [
    "\n",
    "Generating Names with a Character-Level RNN\n",
    "*******************************************\n",
    "**Author**: `Sean Robertson <https://github.com/spro/practical-pytorch>`_\n",
    "\n",
    "In the :doc:`last tutorial </intermediate/char_rnn_classification_tutorial>`\n",
    "we used a RNN to classify names into their language of origin. This time\n",
    "we'll turn around and generate names from languages.\n",
    "\n",
    "::\n",
    "\n",
    "    > python sample.py Russian RUS\n",
    "    Rovakov\n",
    "    Uantov\n",
    "    Shavakov\n",
    "\n",
    "    > python sample.py German GER\n",
    "    Gerren\n",
    "    Ereng\n",
    "    Rosher\n",
    "\n",
    "    > python sample.py Spanish SPA\n",
    "    Salla\n",
    "    Parer\n",
    "    Allan\n",
    "\n",
    "    > python sample.py Chinese CHI\n",
    "    Chan\n",
    "    Hang\n",
    "    Iun\n",
    "\n",
    "We are still hand-crafting a small RNN with a few linear layers. The big\n",
    "difference is instead of predicting a category after reading in all the\n",
    "letters of a name, we input a category and output one letter at a time.\n",
    "Recurrently predicting characters to form language (this could also be\n",
    "done with words or other higher order constructs) is often referred to\n",
    "as a \"language model\".\n",
    "\n",
    "**Recommended Reading:**\n",
    "\n",
    "I assume you have at least installed PyTorch, know Python, and\n",
    "understand Tensors:\n",
    "\n",
    "-  http://pytorch.org/ For installation instructions\n",
    "-  :doc:`/beginner/deep_learning_60min_blitz` to get started with PyTorch in general\n",
    "-  :doc:`/beginner/pytorch_with_examples` for a wide and deep overview\n",
    "-  :doc:`/beginner/former_torchies_tutorial` if you are former Lua Torch user\n",
    "\n",
    "It would also be useful to know about RNNs and how they work:\n",
    "\n",
    "-  `The Unreasonable Effectiveness of Recurrent Neural\n",
    "   Networks <http://karpathy.github.io/2015/05/21/rnn-effectiveness/>`__\n",
    "   shows a bunch of real life examples\n",
    "-  `Understanding LSTM\n",
    "   Networks <http://colah.github.io/posts/2015-08-Understanding-LSTMs/>`__\n",
    "   is about LSTMs specifically but also informative about RNNs in\n",
    "   general\n",
    "\n",
    "I also suggest the previous tutorial, :doc:`/intermediate/char_rnn_classification_tutorial`\n",
    "\n",
    "\n",
    "Preparing the Data\n",
    "==================\n",
    "\n",
    ".. Note::\n",
    "   Download the data from\n",
    "   `here <https://download.pytorch.org/tutorial/data.zip>`_\n",
    "   and extract it to the current directory.\n",
    "\n",
    "See the last tutorial for more detail of this process. In short, there\n",
    "are a bunch of plain text files ``data/names/[Language].txt`` with a\n",
    "name per line. We split lines into an array, convert Unicode to ASCII,\n",
    "and end up with a dictionary ``{language: [names ...]}``.\n",
    "\n",
    "\n"
   ]
  },
  {
   "cell_type": "code",
   "execution_count": 0,
   "metadata": {
    "colab": {
     "base_uri": "https://localhost:8080/",
     "height": 71
    },
    "colab_type": "code",
    "executionInfo": {
     "elapsed": 598,
     "status": "ok",
     "timestamp": 1564095375236,
     "user": {
      "displayName": "Yuxin Zhu",
      "photoUrl": "https://lh5.googleusercontent.com/-hYMo7dSA0cE/AAAAAAAAAAI/AAAAAAAAAAg/w6TCmr3pmv0/s64/photo.jpg",
      "userId": "03907779306110296845"
     },
     "user_tz": 240
    },
    "id": "yivWZ-QrdURz",
    "outputId": "b36fa387-33dc-436a-b660-212384beb307"
   },
   "outputs": [
    {
     "name": "stdout",
     "output_type": "stream",
     "text": [
      "# categories: 18 ['German', 'Arabic', 'Vietnamese', 'Greek', 'French', 'Scottish', 'Italian', 'Chinese', 'Korean', 'Russian', 'Dutch', 'Japanese', 'Polish', 'English', 'Irish', 'Czech', 'Spanish', 'Portuguese']\n",
      "O'Neal\n"
     ]
    }
   ],
   "source": [
    "from __future__ import unicode_literals, print_function, division\n",
    "from io import open\n",
    "import glob\n",
    "import os\n",
    "import unicodedata\n",
    "import string\n",
    "import math\n",
    "import random\n",
    "\n",
    "all_letters = string.ascii_letters + \" .,;'-\"\n",
    "n_letters = len(all_letters) + 1 # Plus EOS marker\n",
    "\n",
    "def findFiles(path): return glob.glob(path)\n",
    "\n",
    "# Turn a Unicode string to plain ASCII, thanks to http://stackoverflow.com/a/518232/2809427\n",
    "def unicodeToAscii(s):\n",
    "    return ''.join(\n",
    "        c for c in unicodedata.normalize('NFD', s)\n",
    "        if unicodedata.category(c) != 'Mn'\n",
    "        and c in all_letters\n",
    "    )\n",
    "\n",
    "# Read a file and split into lines\n",
    "def readLines(filename):\n",
    "    lines = open(filename, encoding='utf-8').read().strip().split('\\n')\n",
    "    return [unicodeToAscii(line) for line in lines]\n",
    "\n",
    "# Build the category_lines dictionary, a list of lines per category\n",
    "category_lines = {}\n",
    "train_data = {}\n",
    "test_data = {}\n",
    "all_categories = []\n",
    "for filename in findFiles('data/names/*.txt'):\n",
    "    category = os.path.splitext(os.path.basename(filename))[0]\n",
    "    all_categories.append(category)\n",
    "    lines = readLines(filename)\n",
    "    random.shuffle(lines)\n",
    "    train_data[category] = lines[0:int(math.floor(0.8*len(lines)))]\n",
    "    test_data[category] = lines[int(math.floor(0.8*len(lines)))+1:]\n",
    "    category_lines[category] = lines\n",
    "\n",
    "n_categories = len(all_categories)\n",
    "\n",
    "if n_categories == 0:\n",
    "    raise RuntimeError('Data not found. Make sure that you downloaded data '\n",
    "        'from https://download.pytorch.org/tutorial/data.zip and extract it to '\n",
    "        'the current directory.')\n",
    "\n",
    "print('# categories:', n_categories, all_categories)\n",
    "print(unicodeToAscii(\"O'Néàl\"))"
   ]
  },
  {
   "cell_type": "markdown",
   "metadata": {
    "colab_type": "text",
    "id": "MlY6De-4dUR1"
   },
   "source": [
    "Creating the Network\n",
    "====================\n",
    "\n",
    "This network extends `the last tutorial's RNN <#Creating-the-Network>`__\n",
    "with an extra argument for the category tensor, which is concatenated\n",
    "along with the others. The category tensor is a one-hot vector just like\n",
    "the letter input.\n",
    "\n",
    "We will interpret the output as the probability of the next letter. When\n",
    "sampling, the most likely output letter is used as the next input\n",
    "letter.\n",
    "\n",
    "I added a second linear layer ``o2o`` (after combining hidden and\n",
    "output) to give it more muscle to work with. There's also a dropout\n",
    "layer, which `randomly zeros parts of its\n",
    "input <https://arxiv.org/abs/1207.0580>`__ with a given probability\n",
    "(here 0.1) and is usually used to fuzz inputs to prevent overfitting.\n",
    "Here we're using it towards the end of the network to purposely add some\n",
    "chaos and increase sampling variety.\n",
    "\n",
    ".. figure:: https://i.imgur.com/jzVrf7f.png\n",
    "   :alt:\n",
    "\n",
    "\n",
    "\n"
   ]
  },
  {
   "cell_type": "code",
   "execution_count": 0,
   "metadata": {
    "colab": {},
    "colab_type": "code",
    "id": "B3Y0aicRdUR2"
   },
   "outputs": [],
   "source": [
    "import torch\n",
    "import torch.nn as nn\n",
    "from torch.autograd import Variable\n",
    "\n",
    "class RNN(nn.Module):\n",
    "    def __init__(self, input_size, hidden_size, output_size):\n",
    "        super(RNN, self).__init__()\n",
    "        self.hidden_size = hidden_size\n",
    "\n",
    "        self.i2h = nn.Linear(n_categories + input_size + hidden_size, hidden_size)\n",
    "        self.i2o = nn.Linear(n_categories + input_size + hidden_size, output_size)\n",
    "        self.o2o = nn.Linear(hidden_size + output_size, output_size)\n",
    "        self.dropout = nn.Dropout(0.1)\n",
    "        self.softmax = nn.LogSoftmax(dim=1)\n",
    "\n",
    "    def forward(self, category, input, hidden):\n",
    "        input_combined = torch.cat((category, input, hidden), 1)\n",
    "        hidden = self.i2h(input_combined)\n",
    "        output = self.i2o(input_combined)\n",
    "        output_combined = torch.cat((hidden, output), 1)\n",
    "        output = self.o2o(output_combined)\n",
    "        output = self.dropout(output)\n",
    "        output = self.softmax(output)\n",
    "        return output, hidden\n",
    "\n",
    "    def initHidden(self):\n",
    "        return torch.zeros(1, self.hidden_size)"
   ]
  },
  {
   "cell_type": "markdown",
   "metadata": {
    "colab_type": "text",
    "id": "-f_zTkMSdUR4"
   },
   "source": [
    "Training\n",
    "=========\n",
    "Preparing for Training\n",
    "----------------------\n",
    "\n",
    "First of all, helper functions to get random pairs of (category, line):\n",
    "\n",
    "\n"
   ]
  },
  {
   "cell_type": "code",
   "execution_count": 0,
   "metadata": {
    "colab": {},
    "colab_type": "code",
    "id": "mJ4453vLdUR5"
   },
   "outputs": [],
   "source": [
    "import random\n",
    "\n",
    "# Random item from a list\n",
    "def randomChoice(l):\n",
    "    return l[random.randint(0, len(l) - 1)]\n",
    "\n",
    "# Get a random category and random line from that category\n",
    "def randomTrainingPair():\n",
    "    category = randomChoice(all_categories)\n",
    "    line = randomChoice(train_data[category])\n",
    "    return category, line"
   ]
  },
  {
   "cell_type": "markdown",
   "metadata": {
    "colab_type": "text",
    "id": "9l7cNuyJdUR7"
   },
   "source": [
    "For each timestep (that is, for each letter in a training word) the\n",
    "inputs of the network will be\n",
    "``(category, current letter, hidden state)`` and the outputs will be\n",
    "``(next letter, next hidden state)``. So for each training set, we'll\n",
    "need the category, a set of input letters, and a set of output/target\n",
    "letters.\n",
    "\n",
    "Since we are predicting the next letter from the current letter for each\n",
    "timestep, the letter pairs are groups of consecutive letters from the\n",
    "line - e.g. for ``\"ABCD<EOS>\"`` we would create (\"A\", \"B\"), (\"B\", \"C\"),\n",
    "(\"C\", \"D\"), (\"D\", \"EOS\").\n",
    "\n",
    ".. figure:: https://i.imgur.com/JH58tXY.png\n",
    "   :alt:\n",
    "\n",
    "The category tensor is a `one-hot\n",
    "tensor <https://en.wikipedia.org/wiki/One-hot>`__ of size\n",
    "``<1 x n_categories>``. When training we feed it to the network at every\n",
    "timestep - this is a design choice, it could have been included as part\n",
    "of initial hidden state or some other strategy.\n",
    "\n",
    "\n"
   ]
  },
  {
   "cell_type": "code",
   "execution_count": 0,
   "metadata": {
    "colab": {},
    "colab_type": "code",
    "id": "XiLZFiyddUR7"
   },
   "outputs": [],
   "source": [
    "# One-hot vector for category\n",
    "def categoryTensor(category):\n",
    "    li = all_categories.index(category)\n",
    "    tensor = torch.zeros(1, n_categories)\n",
    "    tensor[0][li] = 1\n",
    "    return tensor\n",
    "\n",
    "# One-hot matrix of first to last letters (not including EOS) for input\n",
    "def inputTensor(line):\n",
    "    tensor = torch.zeros(len(line), 1, n_letters)\n",
    "    for li in range(len(line)):\n",
    "        letter = line[li]\n",
    "        tensor[li][0][all_letters.find(letter)] = 1\n",
    "    return tensor\n",
    "\n",
    "# LongTensor of second letter to end (EOS) for target\n",
    "def targetTensor(line):\n",
    "    letter_indexes = [all_letters.find(line[li]) for li in range(1, len(line))]\n",
    "    letter_indexes.append(n_letters - 1) # EOS\n",
    "    return torch.LongTensor(letter_indexes)"
   ]
  },
  {
   "cell_type": "markdown",
   "metadata": {
    "colab_type": "text",
    "id": "SlrGrMi0dUR-"
   },
   "source": [
    "For convenience during training we'll make a ``randomTrainingExample``\n",
    "function that fetches a random (category, line) pair and turns them into\n",
    "the required (category, input, target) tensors.\n",
    "\n",
    "\n"
   ]
  },
  {
   "cell_type": "code",
   "execution_count": 0,
   "metadata": {
    "colab": {},
    "colab_type": "code",
    "id": "G8WKEzgLdUR_"
   },
   "outputs": [],
   "source": [
    "# Make category, input, and target tensors from a random category, line pair\n",
    "def randomTrainingExample():\n",
    "    category, line = randomTrainingPair()\n",
    "    category_tensor = categoryTensor(category)\n",
    "    input_line_tensor = inputTensor(line)\n",
    "    target_line_tensor = targetTensor(line)\n",
    "    return category_tensor, input_line_tensor, target_line_tensor"
   ]
  },
  {
   "cell_type": "markdown",
   "metadata": {
    "colab_type": "text",
    "id": "AdFYtchcdUSB"
   },
   "source": [
    "Training the Network\n",
    "--------------------\n",
    "\n",
    "In contrast to classification, where only the last output is used, we\n",
    "are making a prediction at every step, so we are calculating loss at\n",
    "every step.\n",
    "\n",
    "The magic of autograd allows you to simply sum these losses at each step\n",
    "and call backward at the end.\n",
    "\n",
    "\n"
   ]
  },
  {
   "cell_type": "code",
   "execution_count": 0,
   "metadata": {
    "colab": {},
    "colab_type": "code",
    "id": "a9WcN0iMdUSB"
   },
   "outputs": [],
   "source": [
    "criterion = nn.NLLLoss()\n",
    "\n",
    "learning_rate = 0.0005\n",
    "\n",
    "def train(category_tensor, input_line_tensor, target_line_tensor):\n",
    "    target_line_tensor.unsqueeze_(-1)\n",
    "    hidden = rnn.initHidden()\n",
    "\n",
    "    rnn.zero_grad()\n",
    "\n",
    "    loss = 0\n",
    "\n",
    "    for i in range(input_line_tensor.size(0)):\n",
    "        output, hidden = rnn(category_tensor, input_line_tensor[i], hidden)\n",
    "        l = criterion(output, target_line_tensor[i])\n",
    "        loss += l\n",
    "\n",
    "    loss.backward()\n",
    "\n",
    "    for p in rnn.parameters():\n",
    "        p.data.add_(-learning_rate, p.grad.data)\n",
    "\n",
    "    return output, loss.item() / input_line_tensor.size(0)"
   ]
  },
  {
   "cell_type": "markdown",
   "metadata": {
    "colab_type": "text",
    "id": "sxerzd5cdUSE"
   },
   "source": [
    "To keep track of how long training takes I am adding a\n",
    "``timeSince(timestamp)`` function which returns a human readable string:\n",
    "\n",
    "\n"
   ]
  },
  {
   "cell_type": "code",
   "execution_count": 0,
   "metadata": {
    "colab": {},
    "colab_type": "code",
    "id": "CgynvRVzdUSE"
   },
   "outputs": [],
   "source": [
    "import time\n",
    "import math\n",
    "\n",
    "def timeSince(since):\n",
    "    now = time.time()\n",
    "    s = now - since\n",
    "    m = math.floor(s / 60)\n",
    "    s -= m * 60\n",
    "    return '%dm %ds' % (m, s)"
   ]
  },
  {
   "cell_type": "markdown",
   "metadata": {
    "colab_type": "text",
    "id": "7pLWH-5YdUSH"
   },
   "source": [
    "Training is business as usual - call train a bunch of times and wait a\n",
    "few minutes, printing the current time and loss every ``print_every``\n",
    "examples, and keeping store of an average loss per ``plot_every`` examples\n",
    "in ``all_losses`` for plotting later.\n",
    "\n",
    "\n"
   ]
  },
  {
   "cell_type": "code",
   "execution_count": 0,
   "metadata": {
    "colab": {
     "base_uri": "https://localhost:8080/",
     "height": 357
    },
    "colab_type": "code",
    "executionInfo": {
     "elapsed": 1170723,
     "status": "ok",
     "timestamp": 1564096665800,
     "user": {
      "displayName": "Yuxin Zhu",
      "photoUrl": "https://lh5.googleusercontent.com/-hYMo7dSA0cE/AAAAAAAAAAI/AAAAAAAAAAg/w6TCmr3pmv0/s64/photo.jpg",
      "userId": "03907779306110296845"
     },
     "user_tz": 240
    },
    "id": "VpSLff2TdUSI",
    "outputId": "605baece-0f9f-4e0f-a4a0-ae21c30ff44b"
   },
   "outputs": [
    {
     "name": "stdout",
     "output_type": "stream",
     "text": [
      "0m 54s (5000 5%) 2.9248\n",
      "1m 52s (10000 10%) 2.1516\n",
      "2m 51s (15000 15%) 2.2223\n",
      "3m 49s (20000 20%) 2.7291\n",
      "4m 47s (25000 25%) 2.8545\n",
      "5m 46s (30000 30%) 2.3927\n",
      "6m 45s (35000 35%) 2.4850\n",
      "7m 43s (40000 40%) 1.8313\n",
      "8m 42s (45000 45%) 2.5951\n",
      "9m 41s (50000 50%) 2.2779\n",
      "10m 39s (55000 55%) 2.5251\n",
      "11m 38s (60000 60%) 2.5576\n",
      "12m 36s (65000 65%) 1.6648\n",
      "13m 35s (70000 70%) 2.0777\n",
      "14m 33s (75000 75%) 2.1591\n",
      "15m 31s (80000 80%) 2.2439\n",
      "16m 30s (85000 85%) 3.6619\n",
      "17m 28s (90000 90%) 2.5570\n",
      "18m 27s (95000 95%) 3.2890\n",
      "19m 25s (100000 100%) 2.2161\n"
     ]
    }
   ],
   "source": [
    "rnn = RNN(n_letters, 128, n_letters)\n",
    "\n",
    "n_iters = 100000\n",
    "print_every = 5000\n",
    "plot_every = 500\n",
    "all_losses = []\n",
    "all_test_losses = []\n",
    "total_loss = 0 # Reset every plot_every iters\n",
    "\n",
    "# Just return an output given a line\n",
    "def evaluate(category_tensor, input_line_tensor, target_line_tensor):\n",
    "    target_line_tensor.unsqueeze_(-1)\n",
    "    hidden = rnn.initHidden()\n",
    "    loss = 0\n",
    "    for i in range(input_line_tensor.size()[0]):\n",
    "        output, hidden = rnn(category_tensor, input_line_tensor[i], hidden)\n",
    "        loss += criterion(output, target_line_tensor[i])\n",
    "    return output, loss.item() / input_line_tensor.size(0)\n",
    "\n",
    "start = time.time()\n",
    "\n",
    "for iter in range(1, n_iters + 1):\n",
    "    output, loss = train(*randomTrainingExample())\n",
    "    total_loss += loss\n",
    "\n",
    "    if iter % print_every == 0:\n",
    "        print('%s (%d %d%%) %.4f' % (timeSince(start), iter, iter / n_iters * 100, loss))\n",
    "\n",
    "    if iter % plot_every == 0:\n",
    "        all_losses.append(total_loss / plot_every)\n",
    "        total_loss = 0\n",
    "        \n",
    "    # Compute loss based on test data\n",
    "    if iter % plot_every == 0:\n",
    "        total_test_loss = 0\n",
    "        n_test_instances = 0\n",
    "        for category in all_categories:\n",
    "            category_tensor = Variable(categoryTensor(category))\n",
    "            n_test_instances = n_test_instances + len(test_data[category])\n",
    "            for line in test_data[category]:\n",
    "                input_line_tensor = Variable(inputTensor(line))\n",
    "                target_line_tensor = Variable(targetTensor(line))\n",
    "                output, test_loss = evaluate(category_tensor, input_line_tensor, target_line_tensor)\n",
    "                total_test_loss += test_loss\n",
    "        all_test_losses.append(total_test_loss / n_test_instances)\n",
    "losses_i = all_test_losses\n"
   ]
  },
  {
   "cell_type": "code",
   "execution_count": 0,
   "metadata": {
    "colab": {
     "base_uri": "https://localhost:8080/",
     "height": 54
    },
    "colab_type": "code",
    "executionInfo": {
     "elapsed": 436,
     "status": "ok",
     "timestamp": 1564103088249,
     "user": {
      "displayName": "Yuxin Zhu",
      "photoUrl": "https://lh5.googleusercontent.com/-hYMo7dSA0cE/AAAAAAAAAAI/AAAAAAAAAAg/w6TCmr3pmv0/s64/photo.jpg",
      "userId": "03907779306110296845"
     },
     "user_tz": 240
    },
    "id": "_w05OSiDW4n8",
    "outputId": "a451e535-5f4a-4d79-f167-bd99ce858240"
   },
   "outputs": [
    {
     "name": "stdout",
     "output_type": "stream",
     "text": [
      "[3.886386448061635, 3.4052930484581485, 3.2616461479148273, 3.1974340832123045, 3.1529708077875624, 3.087221886967181, 3.063692109340834, 3.0430938567577575, 3.0195103075193273, 3.003518321686331, 2.981059779430751, 2.9699465528423667, 2.9454343753111885, 2.9540403499461885, 2.9307447773817303, 2.9174145832299088, 2.911058375085985, 2.899095613299839, 2.8819831880075912, 2.873465536427186, 2.8458255789481015, 2.837854253223292, 2.8413499704361453, 2.8338529883095003, 2.8383748821742083, 2.818917461519883, 2.818150712852068, 2.7933291791754775, 2.7996238184653275, 2.785482872060278, 2.794670377850049, 2.779964160149764, 2.7648642039955678, 2.7664263637347912, 2.755975900198877, 2.7455681355837154, 2.7523039049230635, 2.766593349086079, 2.7767144695138333, 2.723738107400511, 2.7244385817024304, 2.723351926210435, 2.7233871714370417, 2.7261371769454037, 2.718899100548081, 2.707425026582404, 2.721293627789259, 2.724887207437241, 2.6855919828063426, 2.6912506073591107, 2.689660044235257, 2.665423405843265, 2.680396843120236, 2.6722374191213127, 2.680522230204428, 2.6612812683318503, 2.654082354177609, 2.6733738738746355, 2.653434664225861, 2.68771296247657, 2.6478631240652004, 2.640416727423865, 2.6366402468164085, 2.6439574591063613, 2.6345156894234023, 2.635978029319024, 2.620128389542474, 2.625350239334914, 2.6218360968209846, 2.6278360203021087, 2.6076533436429483, 2.617111492837434, 2.6232501319650803, 2.6250100927349354, 2.603906742612793, 2.6005825078243325, 2.5921496772682184, 2.6004899490927578, 2.5896890993702057, 2.6000108739599286, 2.5914097591951597, 2.6007378649438007, 2.5870118014706605, 2.59179511488545, 2.574711562625475, 2.5819252644831594, 2.5729192097597764, 2.5634246899156117, 2.5580345329551006, 2.5557477554099117, 2.5578483972114143, 2.5662484409080424, 2.573929095738081, 2.566334320122651, 2.5594452442343023, 2.551906668427334, 2.5547998747757856, 2.5608149022992808, 2.5556527446277877, 2.543018029314773, 2.561155042744575, 2.560006534369177, 2.551471583912781, 2.540128214063566, 2.536977874206564, 2.5438504272024356, 2.53406853497164, 2.5414298536285282, 2.5493500253662034, 2.524556932192381, 2.526489391182504, 2.533528573100785, 2.5303474396970627, 2.528473381448034, 2.5343288240689574, 2.522971478928909, 2.5366127331607906, 2.519396827851225, 2.5052907344883577, 2.513378823369842, 2.5393005651673337, 2.516750915981242, 2.5210428969099166, 2.5157352799698276, 2.5117417877544215, 2.5303332379985544, 2.5198531329172837, 2.5402682062908246, 2.5061057510230507, 2.537481397141345, 2.5119840572984544, 2.5080946669054227, 2.503990841610301, 2.511772935096976, 2.4939683941424864, 2.5097381550671747, 2.503050326755595, 2.511974418114384, 2.5199668942109907, 2.5128791969604594, 2.495255183215497, 2.497824336413657, 2.500735462410706, 2.5151007187410763, 2.49640035363916, 2.4930866457843943, 2.4945542270618595, 2.4875709430222632, 2.5069555736897713, 2.4806801690085485, 2.554387633658784, 2.5024915371352328, 2.494665466015109, 2.4884307321682275, 2.4962325178701703, 2.4843296502321484, 2.4870149173635694, 2.48170855162134, 2.5015989350393775, 2.476452691439612, 2.4853331695674905, 2.4931667566290363, 2.469985802932375, 2.4814200946542764, 2.481483684805757, 2.478661796397286, 2.4829668289692637, 2.468356280959205, 2.4782211914490104, 2.4594088694017815, 2.483601320294497, 2.4606018193282724, 2.4689668210229665, 2.458435234487482, 2.480451739116937, 2.470185222654912, 2.4876645251859673, 2.4644057572714364, 2.4776919153546193, 2.4552278944220074, 2.4633516744886266, 2.4750534072790678, 2.4574948036176587, 2.4536454221937163, 2.4690729484937504, 2.466864544825927, 2.4589453298535364, 2.4715793129744683, 2.4633532722884555, 2.4674218612165713, 2.457138189096428, 2.4876369904087996, 2.4560671838819754, 2.4487176340610737, 2.456489492274992, 2.454883554404526, 2.4857120035714684, 2.460752767790986, 2.4706718654638014, 2.462477349561393]\n"
     ]
    }
   ],
   "source": [
    "print(losses_i)"
   ]
  },
  {
   "cell_type": "markdown",
   "metadata": {
    "colab_type": "text",
    "id": "Umr4qYllYJqk"
   },
   "source": [
    " ii) previous hidden unit and previous character\n",
    "======="
   ]
  },
  {
   "cell_type": "code",
   "execution_count": 0,
   "metadata": {
    "colab": {},
    "colab_type": "code",
    "id": "Qt903CLPy60G"
   },
   "outputs": [],
   "source": [
    "import torch\n",
    "import torch.nn as nn\n",
    "from torch.autograd import Variable\n",
    "\n",
    "\n",
    "\n",
    "class RNN_ii(nn.Module):\n",
    "    def __init__(self, input_size, hidden_size, output_size):\n",
    "        super(RNN_ii, self).__init__()\n",
    "        self.first = True\n",
    "        self.hidden_size = hidden_size\n",
    "\n",
    "        self.i2h = nn.Linear(input_size + hidden_size, hidden_size)\n",
    "        self.i2o = nn.Linear(input_size + hidden_size, output_size)\n",
    "        \n",
    "        \n",
    "        self.i2h_first = nn.Linear(n_categories + input_size + hidden_size, hidden_size)\n",
    "        self.i2o_first = nn.Linear(n_categories + input_size + hidden_size, output_size)\n",
    "        \n",
    "        \n",
    "        self.o2o = nn.Linear(hidden_size + output_size, output_size)\n",
    "        self.dropout = nn.Dropout(0.1)\n",
    "        self.softmax = nn.LogSoftmax(dim=1)\n",
    "\n",
    "    def forward(self, category, input, hidden, first):\n",
    "        if(first):\n",
    "          input_combined = torch.cat((category, input, hidden), 1)\n",
    "          hidden = self.i2h_first(input_combined)\n",
    "          output = self.i2o_first(input_combined)\n",
    "        else:\n",
    "          input_combined = torch.cat((input, hidden), 1)\n",
    "          hidden = self.i2h(input_combined)\n",
    "          output = self.i2o(input_combined)\n",
    "          \n",
    "        output_combined = torch.cat((hidden, output), 1)\n",
    "        output = self.o2o(output_combined)\n",
    "        output = self.dropout(output)\n",
    "        output = self.softmax(output)\n",
    "        return output, hidden\n",
    "\n",
    "    def initHidden(self):\n",
    "        return torch.zeros(1, self.hidden_size)\n",
    "   \n",
    "\n",
    "  \n"
   ]
  },
  {
   "cell_type": "code",
   "execution_count": 0,
   "metadata": {
    "colab": {},
    "colab_type": "code",
    "id": "IVdh1eSbysLC"
   },
   "outputs": [],
   "source": [
    "criterion = nn.NLLLoss()\n",
    "\n",
    "learning_rate = 0.0005\n",
    "\n",
    "def train(category_tensor, input_line_tensor, target_line_tensor, first=False):\n",
    "    target_line_tensor.unsqueeze_(-1)\n",
    "    hidden = rnn.initHidden()\n",
    "\n",
    "    rnn.zero_grad()\n",
    "\n",
    "    loss = 0\n",
    "\n",
    "    for i in range(input_line_tensor.size(0)):\n",
    "        output, hidden = rnn(category_tensor, input_line_tensor[i], hidden, first)\n",
    "        l = criterion(output, target_line_tensor[i])\n",
    "        loss += l\n",
    "\n",
    "    loss.backward()\n",
    "\n",
    "    for p in rnn.parameters():\n",
    "        if p.grad is not None:\n",
    "          p.data.add_(-learning_rate, p.grad.data)\n",
    "\n",
    "    return output, loss.item() / input_line_tensor.size(0)"
   ]
  },
  {
   "cell_type": "code",
   "execution_count": 0,
   "metadata": {
    "colab": {
     "base_uri": "https://localhost:8080/",
     "height": 357
    },
    "colab_type": "code",
    "executionInfo": {
     "elapsed": 1246416,
     "status": "ok",
     "timestamp": 1564106563983,
     "user": {
      "displayName": "Yuxin Zhu",
      "photoUrl": "https://lh5.googleusercontent.com/-hYMo7dSA0cE/AAAAAAAAAAI/AAAAAAAAAAg/w6TCmr3pmv0/s64/photo.jpg",
      "userId": "03907779306110296845"
     },
     "user_tz": 240
    },
    "id": "RuBtNlCZ0DjZ",
    "outputId": "529b6b9c-703b-4384-9314-86d4cf0a2942"
   },
   "outputs": [
    {
     "name": "stdout",
     "output_type": "stream",
     "text": [
      "0m 58s (5000 5%) 2.5274\n",
      "2m 1s (10000 10%) 2.4041\n",
      "3m 3s (15000 15%) 2.6215\n",
      "4m 6s (20000 20%) 2.9069\n",
      "5m 9s (25000 25%) 2.5081\n",
      "6m 11s (30000 30%) 3.3651\n",
      "7m 13s (35000 35%) 3.0086\n",
      "8m 14s (40000 40%) 2.6651\n",
      "9m 16s (45000 45%) 3.0633\n",
      "10m 18s (50000 50%) 2.5002\n",
      "11m 20s (55000 55%) 2.5888\n",
      "12m 22s (60000 60%) 2.8525\n",
      "13m 24s (65000 65%) 2.2250\n",
      "14m 26s (70000 70%) 2.8920\n",
      "15m 29s (75000 75%) 1.9748\n",
      "16m 31s (80000 80%) 2.4985\n",
      "17m 32s (85000 85%) 3.2352\n",
      "18m 35s (90000 90%) 2.8586\n",
      "19m 38s (95000 95%) 2.4462\n",
      "20m 40s (100000 100%) 2.2369\n"
     ]
    }
   ],
   "source": [
    "rnn = RNN_ii(n_letters, 128, n_letters)\n",
    "\n",
    "n_iters = 100000\n",
    "print_every = 5000\n",
    "plot_every = 500\n",
    "all_losses = []\n",
    "all_test_losses = []\n",
    "total_loss = 0 # Reset every plot_every iters\n",
    "\n",
    "\n",
    "\n",
    "# Just return an output given a line\n",
    "def evaluate(category_tensor, input_line_tensor, target_line_tensor, first):\n",
    "    target_line_tensor.unsqueeze_(-1)\n",
    "    hidden = rnn.initHidden()\n",
    "    loss = 0\n",
    "    for i in range(input_line_tensor.size()[0]):\n",
    "        output, hidden = rnn(category_tensor, input_line_tensor[i], hidden, first)\n",
    "        loss += criterion(output, target_line_tensor[i])\n",
    "    return output, loss.item() / input_line_tensor.size(0)\n",
    "  \n",
    "  \n",
    "start = time.time()\n",
    "\n",
    "for iter in range(1, n_iters + 1):\n",
    "    if iter == 1:\n",
    "      first = True\n",
    "    else:\n",
    "      first = False\n",
    "    output, loss = train(*randomTrainingExample(), first)\n",
    "    total_loss += loss\n",
    "\n",
    "    if iter % print_every == 0:\n",
    "        print('%s (%d %d%%) %.4f' % (timeSince(start), iter, iter / n_iters * 100, loss))\n",
    "\n",
    "    if iter % plot_every == 0:\n",
    "        all_losses.append(total_loss / plot_every)\n",
    "        total_loss = 0\n",
    "        \n",
    "    # Compute loss based on test data\n",
    "    if iter % plot_every == 0:\n",
    "        total_test_loss = 0\n",
    "        n_test_instances = 0\n",
    "        for category in all_categories:\n",
    "            category_tensor = Variable(categoryTensor(category))\n",
    "            n_test_instances = n_test_instances + len(test_data[category])\n",
    "            for line in test_data[category]:\n",
    "                input_line_tensor = Variable(inputTensor(line))\n",
    "                target_line_tensor = Variable(targetTensor(line))\n",
    "                output, test_loss = evaluate(category_tensor, input_line_tensor, target_line_tensor, first)\n",
    "                total_test_loss += test_loss\n",
    "        all_test_losses.append(total_test_loss / n_test_instances)\n",
    "losses_ii = all_test_losses\n"
   ]
  },
  {
   "cell_type": "code",
   "execution_count": 0,
   "metadata": {
    "colab": {
     "base_uri": "https://localhost:8080/",
     "height": 54
    },
    "colab_type": "code",
    "executionInfo": {
     "elapsed": 440,
     "status": "ok",
     "timestamp": 1564106573519,
     "user": {
      "displayName": "Yuxin Zhu",
      "photoUrl": "https://lh5.googleusercontent.com/-hYMo7dSA0cE/AAAAAAAAAAI/AAAAAAAAAAg/w6TCmr3pmv0/s64/photo.jpg",
      "userId": "03907779306110296845"
     },
     "user_tz": 240
    },
    "id": "R1BBqyiB_8qH",
    "outputId": "cd44fea1-5874-42da-e200-2a529824206b"
   },
   "outputs": [
    {
     "name": "stdout",
     "output_type": "stream",
     "text": [
      "[3.9155635083598734, 3.4512281831068927, 3.2939319060407604, 3.2135322314395305, 3.169011805853628, 3.115040113354678, 3.0937736620085445, 3.079553612303591, 3.0447682284548594, 3.0318621378922583, 2.9960637904265215, 2.9841829014409402, 2.986624266054704, 2.9620458248056636, 2.9598326928156777, 2.9515651426602316, 2.9306864270197366, 2.925913010176505, 2.939438427288945, 2.904931211256592, 2.890103663862102, 2.870732673402119, 2.9188810793110562, 2.86755052290341, 2.8892172293278877, 2.872524450467801, 2.849059688882979, 2.853743073973235, 2.8708176491580213, 2.839614342240284, 2.8406893974087755, 2.8434108249818415, 2.834900658173011, 2.822947883038495, 2.829369487828487, 2.8280787621952537, 2.823315205959706, 2.809038856561786, 2.8000060216864213, 2.794087739438045, 2.800224626570638, 2.792048794528163, 2.789921952462031, 2.792963311035348, 2.7844828746737194, 2.802974590164733, 2.7846829237745543, 2.7821023553714936, 2.7748334630347484, 2.7718183013913884, 2.766101834088194, 2.772825261053461, 2.7598570720908415, 2.7633379828679776, 2.766733225868916, 2.757572228774474, 2.7615422336459257, 2.7560784528169213, 2.753189319816122, 2.73939796040103, 2.740531256446981, 2.755550194841749, 2.7418410195841516, 2.735440847775913, 2.7388466362036623, 2.744829622903691, 2.744059394909809, 2.7282815258211186, 2.735082285885191, 2.714491099414322, 2.730349921447607, 2.720548383430648, 2.7280964009077113, 2.7306512166490315, 2.71763836028405, 2.7136439970628072, 2.7164092786276632, 2.7219380461378626, 2.7082666302465426, 2.713926994713197, 2.705014587955563, 2.707640734365772, 2.7122282216506104, 2.7207398925596458, 2.720598599008224, 2.7019610642586787, 2.6972765012094175, 2.699839962000617, 2.7042914700741303, 2.6970193172839796, 2.6979621485269845, 2.71239208844325, 2.688836624593416, 2.6926772431430264, 2.6790551891032335, 2.703505202196229, 2.683696170710019, 2.6788091020578615, 2.6807385080913937, 2.6735086999420328, 2.6925900921887584, 2.6755527770209433, 2.688815474842656, 2.6888029949773293, 2.69032867882448, 2.6775949696629286, 2.6640116753171657, 2.681336077965778, 2.6812102438381444, 2.66424992923258, 2.6681527736515838, 2.670786434844441, 2.65832403157062, 2.667758040674126, 2.683307402154987, 2.661936329477868, 2.6585680388994177, 2.656707541409233, 2.6711051660734766, 2.6709524985464577, 2.6671655398264944, 2.678471894544904, 2.6650438170153277, 2.678352650575754, 2.6723191803289392, 2.675099470203807, 2.65748519648009, 2.6620602398464794, 2.676080897666618, 2.6580180564853144, 2.6628834451291232, 2.6573964887064774, 2.66338419086586, 2.6929487410002273, 2.6630237482951715, 2.6401093194227516, 2.6497675685878748, 2.6462835482088156, 2.648690846513631, 2.652913940647948, 2.6445825380144, 2.6394846146906668, 2.6467130466198046, 2.6497749172013196, 2.6694293959074957, 2.656756098805247, 2.651882948376391, 2.6486591119808893, 2.642866356774715, 2.6422536041068945, 2.650925211840087, 2.652592828519097, 2.63978175505422, 2.636363815963846, 2.633998279402671, 2.6457240457708355, 2.6521338540662405, 2.6474634331198272, 2.633146644694587, 2.6338430034484217, 2.636807162071216, 2.6429937603091207, 2.6348604392522885, 2.619385049510301, 2.6557273440113516, 2.646819891356332, 2.648619633494787, 2.627108413006428, 2.6367020986963072, 2.6365411780715964, 2.629931252339137, 2.64296588165452, 2.6389882990663835, 2.621388069163147, 2.6425601607896505, 2.6341979936751394, 2.623350062513046, 2.6227243741865034, 2.6443039058155295, 2.6686139810437672, 2.6284583539102613, 2.648483111727648, 2.634507292118554, 2.628119011487365, 2.624183709044805, 2.6068605162591436, 2.6324212585391185, 2.63629464845913, 2.613264992220038, 2.626080338206916, 2.622616930848137, 2.6289747217113684, 2.6418269734048456, 2.6174313335593005, 2.629706346503899, 2.628041319614032, 2.608403241293501, 2.6247643622497665, 2.6135744290428877, 2.6327650408666368]\n"
     ]
    }
   ],
   "source": [
    "print(losses_ii)"
   ]
  },
  {
   "cell_type": "markdown",
   "metadata": {
    "colab_type": "text",
    "id": "3bkI3TtL-cPG"
   },
   "source": [
    " iii) previous hidden unit and category\n",
    "======="
   ]
  },
  {
   "cell_type": "code",
   "execution_count": 0,
   "metadata": {
    "colab": {},
    "colab_type": "code",
    "id": "GY7gh-sy-fCz"
   },
   "outputs": [],
   "source": [
    "import torch\n",
    "import torch.nn as nn\n",
    "from torch.autograd import Variable\n",
    "\n",
    "class RNN_iii(nn.Module):\n",
    "    def __init__(self, hidden_size, output_size):\n",
    "        super(RNN_iii, self).__init__()\n",
    "        self.hidden_size = hidden_size\n",
    "\n",
    "        self.i2h = nn.Linear(n_categories + hidden_size, hidden_size)\n",
    "        self.i2o = nn.Linear(n_categories + hidden_size, output_size)\n",
    "        self.o2o = nn.Linear(hidden_size + output_size, output_size)\n",
    "        self.dropout = nn.Dropout(0.1)\n",
    "        self.softmax = nn.LogSoftmax(dim=1)\n",
    "\n",
    "    def forward(self, category, input, hidden):\n",
    "        input_combined = torch.cat((category, hidden), 1)\n",
    "        hidden = self.i2h(input_combined)\n",
    "        output = self.i2o(input_combined)\n",
    "        output_combined = torch.cat((hidden, output), 1)\n",
    "        output = self.o2o(output_combined)\n",
    "        output = self.dropout(output)\n",
    "        output = self.softmax(output)\n",
    "        return output, hidden\n",
    "\n",
    "    def initHidden(self):\n",
    "        return torch.zeros(1, self.hidden_size)"
   ]
  },
  {
   "cell_type": "code",
   "execution_count": 0,
   "metadata": {
    "colab": {},
    "colab_type": "code",
    "id": "TktNRAau-xIJ"
   },
   "outputs": [],
   "source": [
    "criterion = nn.NLLLoss()\n",
    "\n",
    "learning_rate = 0.0005\n",
    "\n",
    "def train(category_tensor, input_line_tensor, target_line_tensor):\n",
    "    target_line_tensor.unsqueeze_(-1)\n",
    "    hidden = rnn.initHidden()\n",
    "\n",
    "    rnn.zero_grad()\n",
    "\n",
    "    loss = 0\n",
    "\n",
    "    for i in range(input_line_tensor.size(0)):\n",
    "        output, hidden = rnn(category_tensor, input_line_tensor[i], hidden)\n",
    "        l = criterion(output, target_line_tensor[i])\n",
    "        loss += l\n",
    "\n",
    "    loss.backward()\n",
    "\n",
    "    for p in rnn.parameters():\n",
    "        p.data.add_(-learning_rate, p.grad.data)\n",
    "\n",
    "    return output, loss.item() / input_line_tensor.size(0)"
   ]
  },
  {
   "cell_type": "code",
   "execution_count": 0,
   "metadata": {
    "colab": {
     "base_uri": "https://localhost:8080/",
     "height": 357
    },
    "colab_type": "code",
    "executionInfo": {
     "elapsed": 1212085,
     "status": "ok",
     "timestamp": 1564107976572,
     "user": {
      "displayName": "Yuxin Zhu",
      "photoUrl": "https://lh5.googleusercontent.com/-hYMo7dSA0cE/AAAAAAAAAAI/AAAAAAAAAAg/w6TCmr3pmv0/s64/photo.jpg",
      "userId": "03907779306110296845"
     },
     "user_tz": 240
    },
    "id": "ikXHiEY_-iWc",
    "outputId": "f2679b97-194b-4f01-815e-125947930634"
   },
   "outputs": [
    {
     "name": "stdout",
     "output_type": "stream",
     "text": [
      "0m 55s (5000 5%) 2.9456\n",
      "1m 56s (10000 10%) 2.4811\n",
      "2m 56s (15000 15%) 2.8507\n",
      "3m 57s (20000 20%) 3.1179\n",
      "4m 58s (25000 25%) 2.2576\n",
      "5m 58s (30000 30%) 2.1843\n",
      "6m 58s (35000 35%) 2.6640\n",
      "7m 58s (40000 40%) 2.8622\n",
      "8m 59s (45000 45%) 1.7537\n",
      "9m 59s (50000 50%) 2.2433\n",
      "11m 0s (55000 55%) 2.6926\n",
      "12m 1s (60000 60%) 3.4598\n",
      "13m 1s (65000 65%) 3.2126\n",
      "14m 2s (70000 70%) 2.6393\n",
      "15m 3s (75000 75%) 1.9738\n",
      "16m 4s (80000 80%) 1.9840\n",
      "17m 5s (85000 85%) 2.0691\n",
      "18m 6s (90000 90%) 2.7474\n",
      "19m 6s (95000 95%) 2.3727\n",
      "20m 6s (100000 100%) 3.0335\n"
     ]
    }
   ],
   "source": [
    "rnn = RNN_iii(128, n_letters)\n",
    "\n",
    "n_iters = 100000\n",
    "print_every = 5000\n",
    "plot_every = 500\n",
    "all_losses = []\n",
    "all_test_losses = []\n",
    "total_loss = 0 # Reset every plot_every iters\n",
    "\n",
    "# Just return an output given a line\n",
    "def evaluate(category_tensor, input_line_tensor, target_line_tensor):\n",
    "    target_line_tensor.unsqueeze_(-1)\n",
    "    hidden = rnn.initHidden()\n",
    "    loss = 0\n",
    "    for i in range(input_line_tensor.size()[0]):\n",
    "        output, hidden = rnn(category_tensor, input_line_tensor[i], hidden)\n",
    "        loss += criterion(output, target_line_tensor[i])\n",
    "    return output, loss.item() / input_line_tensor.size(0)\n",
    "\n",
    "start = time.time()\n",
    "\n",
    "for iter in range(1, n_iters + 1):\n",
    "    output, loss = train(*randomTrainingExample())\n",
    "    total_loss += loss\n",
    "\n",
    "    if iter % print_every == 0:\n",
    "        print('%s (%d %d%%) %.4f' % (timeSince(start), iter, iter / n_iters * 100, loss))\n",
    "\n",
    "    if iter % plot_every == 0:\n",
    "        all_losses.append(total_loss / plot_every)\n",
    "        total_loss = 0\n",
    "        \n",
    "    # Compute loss based on test data\n",
    "    if iter % plot_every == 0:\n",
    "        total_test_loss = 0\n",
    "        n_test_instances = 0\n",
    "        for category in all_categories:\n",
    "            category_tensor = Variable(categoryTensor(category))\n",
    "            n_test_instances = n_test_instances + len(test_data[category])\n",
    "            for line in test_data[category]:\n",
    "                input_line_tensor = Variable(inputTensor(line))\n",
    "                target_line_tensor = Variable(targetTensor(line))\n",
    "                output, test_loss = evaluate(category_tensor, input_line_tensor, target_line_tensor)\n",
    "                total_test_loss += test_loss\n",
    "        all_test_losses.append(total_test_loss / n_test_instances)\n",
    "losses_iii = all_test_losses\n"
   ]
  },
  {
   "cell_type": "code",
   "execution_count": 0,
   "metadata": {
    "colab": {
     "base_uri": "https://localhost:8080/",
     "height": 54
    },
    "colab_type": "code",
    "executionInfo": {
     "elapsed": 1207186,
     "status": "ok",
     "timestamp": 1564107976573,
     "user": {
      "displayName": "Yuxin Zhu",
      "photoUrl": "https://lh5.googleusercontent.com/-hYMo7dSA0cE/AAAAAAAAAAI/AAAAAAAAAAg/w6TCmr3pmv0/s64/photo.jpg",
      "userId": "03907779306110296845"
     },
     "user_tz": 240
    },
    "id": "u67-hHPy__Lv",
    "outputId": "465afd05-aaa3-4ce3-96ee-3281e544b1d8"
   },
   "outputs": [
    {
     "name": "stdout",
     "output_type": "stream",
     "text": [
      "[3.8453732677170285, 3.3559096306442764, 3.236492629415803, 3.1728079407460763, 3.13636254738362, 3.089577094592527, 3.0708973803691904, 3.0426447364645934, 3.0333650771619465, 3.0154682277950227, 2.998505399850007, 2.9898933002357646, 2.9766558841790953, 2.9637558758954383, 2.973445088252628, 2.972374241469667, 2.939641847458568, 2.9613033503376065, 2.930768008284427, 2.911883749770709, 2.929912979095769, 2.919027649499308, 2.902641754937182, 2.917098927401331, 2.9141749552972405, 2.9145451096067774, 2.897274669086002, 2.8953672162716972, 2.889315512520405, 2.8898942313816613, 2.893511525266386, 2.88742326791271, 2.8745603940635926, 2.86572896467971, 2.8794959030917955, 2.8691967162290664, 2.8807564405668296, 2.8839499879987254, 2.8842518922694156, 2.8644973952496007, 2.978824588542679, 2.8537155804798258, 2.8687982461528025, 2.8647197944087885, 2.8549162951494527, 2.8828124925206846, 2.8504804651776903, 2.879011224836437, 2.851375066170515, 2.8507114877397193, 2.8480098763412887, 2.841199735703731, 2.8470233501997253, 2.827069765492567, 2.831637874160821, 2.8387442217136116, 2.857035555682644, 2.831497264284181, 2.8296876045578956, 2.8369820074482455, 2.8348969428885336, 2.8286537056068997, 2.834407378902979, 2.8259604893993675, 2.8216193123482696, 2.816212615842327, 2.8283778759088, 2.8340562353854315, 2.8216935611155893, 2.8261364683198154, 2.8236177831617613, 2.8145683213505337, 2.830880548428483, 2.8343861545100846, 2.8274363808234435, 2.8215578493313065, 2.8141191775089407, 2.8207716992665866, 2.811562538265513, 2.8124905408569667, 2.8143428224982046, 2.8095108831926554, 2.807642709314726, 2.8157693448152465, 2.802079898564972, 2.806754131340173, 2.815839747574544, 2.812510424427492, 2.801508155449562, 2.8386938791872325, 2.805352323018352, 2.8217013922928182, 2.8098066146526706, 2.8039197052794607, 2.795627796926688, 2.8008700580537993, 2.8100327084710077, 2.8224713010439157, 2.798354353797576, 2.793878528707096, 2.809542703543545, 2.8006470015733935, 2.8015279418761887, 2.8152483504908608, 2.7996440963286258, 2.7986051797066525, 2.8010224195818982, 2.8012866536825576, 2.8148951871743377, 2.803843566601216, 2.79722756391665, 2.797031306681026, 2.796996773309801, 2.7993166095184736, 2.7935739855364004, 2.81817564182001, 2.7943224787999186, 2.8292049811722815, 2.7950526030801695, 2.8288725610839998, 2.793653186267177, 2.801137846331654, 2.7897112617638884, 2.802279279426473, 2.803315934112249, 2.804157677742583, 2.7928456153630163, 2.8000484719314147, 2.7989844340190535, 2.793817805539838, 2.7946010058173143, 2.8090635185069894, 2.7861961020922035, 2.8005330428692923, 2.7971941971156076, 2.789865164323944, 2.792783446411806, 2.7943321721714285, 2.7886762795577456, 2.7847699772315306, 2.791046667506347, 2.790070011312272, 2.784238590207093, 2.7804447136949726, 2.791022850028095, 2.7935915912805025, 2.807867176932504, 2.783537687045924, 2.777101130827736, 2.784250703932905, 2.788328945432495, 2.797446582579675, 2.7972073806376185, 2.7781184961143714, 2.7871524281516087, 2.7842272998536473, 2.78478535924896, 2.7977068027850556, 2.8053719141340756, 2.8064647819477555, 2.791870692291462, 2.804880189831686, 2.7934698538384146, 2.7848971448403117, 2.7781534796549097, 2.782778125027583, 2.779335074253827, 2.783565276385154, 2.79751745736221, 2.790385749605324, 2.7765156458804725, 2.8003080851157023, 2.8032684434152415, 2.7969819111462604, 2.7896699264737195, 2.79055747360172, 2.7959643420797047, 2.7893188932601243, 2.7714585925028263, 2.7822989051755185, 2.781619313966971, 2.777764776769457, 2.7697231224132657, 2.774653811735574, 2.7757940924033506, 2.7985357051353055, 2.776719897933444, 2.7711037485167345, 2.7835148831869994, 2.7715112762611205, 2.7757570624728727, 2.786428904893085, 2.7796939317409333, 2.7760960499475846, 2.775625548842809, 2.785828188018541, 2.784957471477657, 2.7751652670277682, 2.767282403377948, 2.78585924036709]\n"
     ]
    }
   ],
   "source": [
    "print(losses_iii)"
   ]
  },
  {
   "cell_type": "markdown",
   "metadata": {
    "colab_type": "text",
    "id": "ggLb_pYj8px7"
   },
   "source": [
    " iv) previous hidden unit\n",
    "======="
   ]
  },
  {
   "cell_type": "code",
   "execution_count": 0,
   "metadata": {
    "colab": {},
    "colab_type": "code",
    "id": "hYXv_FSe85c-"
   },
   "outputs": [],
   "source": [
    "import torch\n",
    "import torch.nn as nn\n",
    "from torch.autograd import Variable\n",
    "\n",
    "\n",
    "\n",
    "class RNN_iv(nn.Module):\n",
    "    def __init__(self, hidden_size, output_size):\n",
    "        super(RNN_iv, self).__init__()\n",
    "        self.first = True\n",
    "        self.hidden_size = hidden_size\n",
    "\n",
    "        self.i2h = nn.Linear(hidden_size, hidden_size)\n",
    "        self.i2o = nn.Linear(hidden_size, output_size)\n",
    "        \n",
    "        \n",
    "        self.i2h_first = nn.Linear(n_categories + hidden_size, hidden_size)\n",
    "        self.i2o_first = nn.Linear(n_categories + hidden_size, output_size)\n",
    "        \n",
    "        \n",
    "        self.o2o = nn.Linear(hidden_size + output_size, output_size)\n",
    "        self.dropout = nn.Dropout(0.1)\n",
    "        self.softmax = nn.LogSoftmax(dim=1)\n",
    "\n",
    "    def forward(self, category, input, hidden, first):\n",
    "        if(first):\n",
    "          input_combined = torch.cat((category, hidden), 1)\n",
    "          hidden = self.i2h_first(input_combined)\n",
    "          output = self.i2o_first(input_combined)\n",
    "        else:\n",
    "          input_combined = hidden\n",
    "          hidden = self.i2h(input_combined)\n",
    "          output = self.i2o(input_combined)\n",
    "          \n",
    "        output_combined = torch.cat((hidden, output), 1)\n",
    "        output = self.o2o(output_combined)\n",
    "        output = self.dropout(output)\n",
    "        output = self.softmax(output)\n",
    "        return output, hidden\n",
    "\n",
    "    def initHidden(self):\n",
    "        return torch.zeros(1, self.hidden_size)\n",
    "   \n",
    "\n",
    "  \n"
   ]
  },
  {
   "cell_type": "code",
   "execution_count": 0,
   "metadata": {
    "colab": {},
    "colab_type": "code",
    "id": "qiY-GOeQ_vKG"
   },
   "outputs": [],
   "source": [
    "criterion = nn.NLLLoss()\n",
    "\n",
    "learning_rate = 0.0005\n",
    "\n",
    "def train(category_tensor, input_line_tensor, target_line_tensor, first=False):\n",
    "    target_line_tensor.unsqueeze_(-1)\n",
    "    hidden = rnn.initHidden()\n",
    "\n",
    "    rnn.zero_grad()\n",
    "\n",
    "    loss = 0\n",
    "\n",
    "    for i in range(input_line_tensor.size(0)):\n",
    "        output, hidden = rnn(category_tensor, input_line_tensor[i], hidden, first)\n",
    "        l = criterion(output, target_line_tensor[i])\n",
    "        loss += l\n",
    "\n",
    "    loss.backward()\n",
    "\n",
    "    for p in rnn.parameters():\n",
    "      if p.grad is not None:\n",
    "        p.data.add_(-learning_rate, p.grad.data)\n",
    "\n",
    "    return output, loss.item() / input_line_tensor.size(0)"
   ]
  },
  {
   "cell_type": "code",
   "execution_count": 0,
   "metadata": {
    "colab": {
     "base_uri": "https://localhost:8080/",
     "height": 357
    },
    "colab_type": "code",
    "executionInfo": {
     "elapsed": 2816195,
     "status": "ok",
     "timestamp": 1564109592432,
     "user": {
      "displayName": "Yuxin Zhu",
      "photoUrl": "https://lh5.googleusercontent.com/-hYMo7dSA0cE/AAAAAAAAAAI/AAAAAAAAAAg/w6TCmr3pmv0/s64/photo.jpg",
      "userId": "03907779306110296845"
     },
     "user_tz": 240
    },
    "id": "z__jxCqF9CWy",
    "outputId": "27083947-e00a-4d6e-9f1e-8cc72dcd641d"
   },
   "outputs": [
    {
     "name": "stdout",
     "output_type": "stream",
     "text": [
      "0m 53s (5000 5%) 3.7960\n",
      "1m 51s (10000 10%) 2.7659\n",
      "2m 49s (15000 15%) 2.6221\n",
      "3m 47s (20000 20%) 2.2033\n",
      "4m 45s (25000 25%) 2.3086\n",
      "5m 44s (30000 30%) 2.7991\n",
      "6m 42s (35000 35%) 3.2473\n",
      "7m 41s (40000 40%) 2.6017\n",
      "8m 39s (45000 45%) 3.2231\n",
      "9m 37s (50000 50%) 3.0488\n",
      "10m 38s (55000 55%) 2.7088\n",
      "11m 44s (60000 60%) 3.4867\n",
      "13m 39s (65000 65%) 3.1017\n",
      "15m 33s (70000 70%) 2.7358\n",
      "17m 26s (75000 75%) 2.5539\n",
      "19m 17s (80000 80%) 3.8068\n",
      "21m 9s (85000 85%) 2.5797\n",
      "23m 1s (90000 90%) 3.0649\n",
      "24m 54s (95000 95%) 2.5816\n",
      "26m 46s (100000 100%) 2.6408\n"
     ]
    }
   ],
   "source": [
    "rnn = RNN_iv(128, n_letters)\n",
    "\n",
    "n_iters = 100000\n",
    "print_every = 5000\n",
    "plot_every = 500\n",
    "all_losses = []\n",
    "all_test_losses = []\n",
    "total_loss = 0 # Reset every plot_every iters\n",
    "\n",
    "\n",
    "\n",
    "# Just return an output given a line\n",
    "def evaluate(category_tensor, input_line_tensor, target_line_tensor, first):\n",
    "    target_line_tensor.unsqueeze_(-1)\n",
    "    hidden = rnn.initHidden()\n",
    "    loss = 0\n",
    "    for i in range(input_line_tensor.size()[0]):\n",
    "        output, hidden = rnn(category_tensor, input_line_tensor[i], hidden, first)\n",
    "        loss += criterion(output, target_line_tensor[i])\n",
    "    return output, loss.item() / input_line_tensor.size(0)\n",
    "  \n",
    "  \n",
    "start = time.time()\n",
    "\n",
    "for iter in range(1, n_iters + 1):\n",
    "    if iter == 1:\n",
    "      first = True\n",
    "    else:\n",
    "      first = False\n",
    "    output, loss = train(*randomTrainingExample(), first)\n",
    "    total_loss += loss\n",
    "\n",
    "    if iter % print_every == 0:\n",
    "        print('%s (%d %d%%) %.4f' % (timeSince(start), iter, iter / n_iters * 100, loss))\n",
    "\n",
    "    if iter % plot_every == 0:\n",
    "        all_losses.append(total_loss / plot_every)\n",
    "        total_loss = 0\n",
    "        \n",
    "    # Compute loss based on test data\n",
    "    if iter % plot_every == 0:\n",
    "        total_test_loss = 0\n",
    "        n_test_instances = 0\n",
    "        for category in all_categories:\n",
    "            category_tensor = Variable(categoryTensor(category))\n",
    "            n_test_instances = n_test_instances + len(test_data[category])\n",
    "            for line in test_data[category]:\n",
    "                input_line_tensor = Variable(inputTensor(line))\n",
    "                target_line_tensor = Variable(targetTensor(line))\n",
    "                output, test_loss = evaluate(category_tensor, input_line_tensor, target_line_tensor, first)\n",
    "                total_test_loss += test_loss\n",
    "        all_test_losses.append(total_test_loss / n_test_instances)\n",
    "losses_iv = all_test_losses\n"
   ]
  },
  {
   "cell_type": "code",
   "execution_count": 0,
   "metadata": {
    "colab": {
     "base_uri": "https://localhost:8080/",
     "height": 54
    },
    "colab_type": "code",
    "executionInfo": {
     "elapsed": 2812043,
     "status": "ok",
     "timestamp": 1564109592434,
     "user": {
      "displayName": "Yuxin Zhu",
      "photoUrl": "https://lh5.googleusercontent.com/-hYMo7dSA0cE/AAAAAAAAAAI/AAAAAAAAAAg/w6TCmr3pmv0/s64/photo.jpg",
      "userId": "03907779306110296845"
     },
     "user_tz": 240
    },
    "id": "AHqlPa5AABtx",
    "outputId": "d608aa82-19a3-44aa-f1cb-bf570e18bbfa"
   },
   "outputs": [
    {
     "name": "stdout",
     "output_type": "stream",
     "text": [
      "[3.8239050129411774, 3.3410517568405385, 3.2225605596114657, 3.1759121639579546, 3.12555356073902, 3.1071899444134026, 3.0771155719388794, 3.0511101977973163, 3.043287485895065, 3.0382322295666433, 3.02231758767015, 2.9946697565782197, 2.999670834750144, 2.983223591294543, 2.9858906814299604, 2.9839936270449785, 2.9753813430308513, 2.9748743101215713, 2.947124238554596, 2.971360644871556, 2.9488960735487915, 2.951942278406325, 2.960500908344432, 2.941097233892984, 2.9362415088036435, 2.957734688973393, 2.9432194796542728, 2.941061883931886, 2.933247379600851, 2.953115354823776, 2.937917611463333, 2.9275582002045906, 2.9509272678189107, 2.926092880328716, 2.9250243291490516, 2.9211567763287167, 2.93140425996743, 2.936181843532154, 2.926083534218263, 2.925368798282361, 2.937762997855301, 2.920309569445663, 2.9372051655044746, 2.9289551265547793, 2.915999511656668, 2.9227995517601335, 2.9355295312729304, 2.939568836801681, 2.927017247225599, 2.920324342052235, 2.9314260209768452, 2.937389871035595, 2.9244576976235335, 2.931141813254772, 2.9227888651994607, 2.9269485871177294, 2.9379931352292363, 2.9334877853363133, 2.9364466998570133, 2.93158940237724, 2.9257258123394165, 2.939925960226601, 2.9179724534739253, 2.924423187919944, 2.919928618767369, 2.9236869299428503, 2.9185278980156153, 2.9418206228732156, 2.9157736693602283, 2.9100557105753735, 2.91480137197406, 2.9245105890756466, 2.916639201321554, 2.93652823107066, 2.9200622545585198, 2.9225732691447797, 2.93644480909947, 2.9332423591866448, 2.9244199424012645, 2.914934083977008, 2.9274564268010934, 2.920065961537948, 2.9318113343523025, 2.916419250986011, 2.927016823273997, 2.937711139408943, 2.9207940912764134, 2.933424476551074, 2.9235762828608842, 2.9295194377723863, 2.921810180253267, 2.924594063044006, 2.924603788705494, 2.932777774535703, 2.9207039266009263, 2.927099778273822, 2.917322396062782, 2.916914896893234, 2.9331549560438814, 2.920851803893127, 2.927365194512546, 2.9103004128457357, 2.9231109849977, 2.922432941509154, 2.918926595159003, 2.921159356886885, 2.9145527375215035, 2.920061735752249, 2.922522238636092, 2.9220893431295383, 2.927368307529368, 2.9295672685632135, 2.925548555055929, 2.924412668211027, 2.930937818962586, 2.91733869550479, 2.9281389985366886, 2.9234666673097873, 2.913150001647066, 2.9260153429398503, 2.917046327456882, 2.9154835389865257, 2.9304187289242902, 2.921791700505854, 2.927562011844675, 2.9127494233834086, 2.9229713096336245, 2.9266827925507335, 2.921922222789401, 2.9264296355593964, 2.9122031663549435, 2.911812633778936, 2.931748126617214, 2.931533051947808, 2.9197985775798463, 2.9277427812791488, 2.9313875473586775, 2.9239015502144103, 2.917121626697044, 2.908749783762248, 2.912420246422205, 2.9076673496019754, 2.9202151942183274, 2.919128750407424, 2.9273749823728386, 2.918601565751444, 2.9159412780697136, 2.919777309012355, 2.922004974641286, 2.9388387331047827, 2.923112840821445, 2.918879304791711, 2.92166524400781, 2.9172645519160367, 2.900395554281117, 2.9110515777524246, 2.926136957990504, 2.9222768074853, 2.928250786603815, 2.915614092409157, 2.9222752546699353, 2.9116029259305187, 2.92410561899862, 2.9170509361284855, 2.9373024720107797, 2.9027674580547065, 2.9057664917366623, 2.926814183886173, 2.911861769657202, 2.912792168637441, 2.905993666928702, 2.919010091757424, 2.918536733605225, 2.9361214592606575, 2.9099078497128192, 2.9107582387578947, 2.9201899755803695, 2.924561435060586, 2.918154248535125, 2.9247140127568394, 2.9293217931221123, 2.920291025249276, 2.9254465359488138, 2.9185535601747006, 2.9125615721969424, 2.9198511268322345, 2.920664600660929, 2.909826566953412, 2.9267965063345134, 2.919946664958768, 2.9238673074074955, 2.9071263958280973, 2.9130552318150498, 2.9315265622447764, 2.9256532241335003, 2.9302324097426635, 2.923135622124867, 2.915288153293882, 2.9131639100396023, 2.918395206790842]\n"
     ]
    }
   ],
   "source": [
    "print(losses_iv)"
   ]
  },
  {
   "cell_type": "markdown",
   "metadata": {
    "colab_type": "text",
    "id": "kbnt0ez-dUSK"
   },
   "source": [
    "Plotting the Losses\n",
    "=======\n",
    "\n",
    "Plotting the historical loss from all\\_losses shows the network\n",
    "learning:\n",
    "\n",
    "\n"
   ]
  },
  {
   "cell_type": "code",
   "execution_count": 0,
   "metadata": {
    "colab": {
     "base_uri": "https://localhost:8080/",
     "height": 404
    },
    "colab_type": "code",
    "executionInfo": {
     "elapsed": 1166,
     "status": "ok",
     "timestamp": 1564109869622,
     "user": {
      "displayName": "Yuxin Zhu",
      "photoUrl": "https://lh5.googleusercontent.com/-hYMo7dSA0cE/AAAAAAAAAAI/AAAAAAAAAAg/w6TCmr3pmv0/s64/photo.jpg",
      "userId": "03907779306110296845"
     },
     "user_tz": 240
    },
    "id": "e_cF9iL1dUSK",
    "outputId": "fdd2f35d-7748-43d2-ebd0-9a285e69ef66"
   },
   "outputs": [
    {
     "data": {
      "image/png": "[encoded data removed]",
      "text/plain": [
       "<Figure size 576x432 with 1 Axes>"
      ]
     },
     "metadata": {
      "tags": []
     },
     "output_type": "display_data"
    }
   ],
   "source": [
    "import matplotlib.pyplot as plt\n",
    "\n",
    "plt.figure(figsize=(8,6))\n",
    "plt.plot(losses_i, label='i. previous hidden unit, previous character and category')\n",
    "plt.plot(losses_ii, label='ii. previous hidden unit and previous character')\n",
    "plt.plot(losses_iii, label='iii. previous hidden unit and category')\n",
    "plt.plot(losses_iv, label='iv. previous hidden unit')\n",
    "\n",
    "\n",
    "plt.xlabel('number of thousands of iterations')\n",
    "plt.ylabel('test negative log likelihood')\n",
    "plt.title('Accuracy of the decoder for different information fed')\n",
    "plt.legend(loc='upper right')\n",
    "plt.show()"
   ]
  },
  {
   "cell_type": "markdown",
   "metadata": {
    "colab_type": "text",
    "id": "FqCUa1rJdUSM"
   },
   "source": [
    "Sampling the Network\n",
    "====================\n",
    "\n",
    "To sample we give the network a letter and ask what the next one is,\n",
    "feed that in as the next letter, and repeat until the EOS token.\n",
    "\n",
    "-  Create tensors for input category, starting letter, and empty hidden\n",
    "   state\n",
    "-  Create a string ``output_name`` with the starting letter\n",
    "-  Up to a maximum output length,\n",
    "\n",
    "   -  Feed the current letter to the network\n",
    "   -  Get the next letter from highest output, and next hidden state\n",
    "   -  If the letter is EOS, stop here\n",
    "   -  If a regular letter, add to ``output_name`` and continue\n",
    "\n",
    "-  Return the final name\n",
    "\n",
    ".. Note::\n",
    "   Rather than having to give it a starting letter, another\n",
    "   strategy would have been to include a \"start of string\" token in\n",
    "   training and have the network choose its own starting letter.\n",
    "\n",
    "\n"
   ]
  },
  {
   "cell_type": "code",
   "execution_count": 0,
   "metadata": {
    "colab": {},
    "colab_type": "code",
    "id": "kZWDVkPAdUSN"
   },
   "outputs": [],
   "source": [
    "max_length = 20\n",
    "\n",
    "# Sample from a category and starting letter\n",
    "def sample(category, start_letter='A'):\n",
    "    with torch.no_grad():  # no need to track history in sampling\n",
    "        category_tensor = categoryTensor(category)\n",
    "        input = inputTensor(start_letter)\n",
    "        hidden = rnn.initHidden()\n",
    "\n",
    "        output_name = start_letter\n",
    "\n",
    "        for i in range(max_length):\n",
    "            output, hidden = rnn(category_tensor, input[0], hidden)\n",
    "            topv, topi = output.topk(1)\n",
    "            topi = topi[0][0]\n",
    "            if topi == n_letters - 1:\n",
    "                break\n",
    "            else:\n",
    "                letter = all_letters[topi]\n",
    "                output_name += letter\n",
    "            input = inputTensor(letter)\n",
    "\n",
    "        return output_name\n",
    "\n",
    "# Get multiple samples from one category and multiple starting letters\n",
    "def samples(category, start_letters='ABC'):\n",
    "    for start_letter in start_letters:\n",
    "        print(sample(category, start_letter))\n",
    "\n",
    "samples('Russian', 'RUS')\n",
    "\n",
    "samples('German', 'GER')\n",
    "\n",
    "samples('Spanish', 'SPA')\n",
    "\n",
    "samples('Chinese', 'CHI')"
   ]
  }
 ],
 "metadata": {
  "accelerator": "GPU",
  "colab": {
   "collapsed_sections": [
    "ggLb_pYj8px7"
   ],
   "name": "a5q1b_char_rnn_generation.ipynb",
   "provenance": [],
   "version": "0.3.2"
  },
  "kernelspec": {
   "display_name": "Python 3",
   "language": "python",
   "name": "python3"
  },
  "language_info": {
   "codemirror_mode": {
    "name": "ipython",
    "version": 3
   },
   "file_extension": ".py",
   "mimetype": "text/x-python",
   "name": "python",
   "nbconvert_exporter": "python",
   "pygments_lexer": "ipython3",
   "version": "3.7.3"
  }
 },
 "nbformat": 4,
 "nbformat_minor": 1
}
