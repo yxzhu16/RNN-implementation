{
 "cells": [
  {
   "cell_type": "markdown",
   "metadata": {
    "colab_type": "text",
    "id": "o3UFgeUebGKo"
   },
   "source": [
    "Download the data"
   ]
  },
  {
   "cell_type": "code",
   "execution_count": 0,
   "metadata": {
    "colab": {
     "base_uri": "https://localhost:8080/",
     "height": 595
    },
    "colab_type": "code",
    "executionInfo": {
     "elapsed": 4509,
     "status": "ok",
     "timestamp": 1564087445909,
     "user": {
      "displayName": "Yuxin Zhu",
      "photoUrl": "https://lh5.googleusercontent.com/-hYMo7dSA0cE/AAAAAAAAAAI/AAAAAAAAAAg/w6TCmr3pmv0/s64/photo.jpg",
      "userId": "03907779306110296845"
     },
     "user_tz": 240
    },
    "id": "P6BH8Bgpa_ZS",
    "outputId": "9a0c020d-9a2b-4ce9-f197-395430c012bb"
   },
   "outputs": [
    {
     "name": "stdout",
     "output_type": "stream",
     "text": [
      "--2019-07-25 20:44:02--  https://download.pytorch.org/tutorial/data.zip\n",
      "Resolving download.pytorch.org (download.pytorch.org)... 13.225.166.83, 13.225.166.79, 13.225.166.120, ...\n",
      "Connecting to download.pytorch.org (download.pytorch.org)|13.225.166.83|:443... connected.\n",
      "HTTP request sent, awaiting response... 200 OK\n",
      "Length: 2882130 (2.7M) [application/zip]\n",
      "Saving to: ‘data.zip’\n",
      "\n",
      "\r",
      "data.zip              0%[                    ]       0  --.-KB/s               \r",
      "data.zip            100%[===================>]   2.75M  --.-KB/s    in 0.01s   \n",
      "\n",
      "2019-07-25 20:44:02 (194 MB/s) - ‘data.zip’ saved [2882130/2882130]\n",
      "\n",
      "Archive:  data.zip\n",
      "   creating: data/\n",
      "  inflating: data/eng-fra.txt        \n",
      "   creating: data/names/\n",
      "  inflating: data/names/Arabic.txt   \n",
      "  inflating: data/names/Chinese.txt  \n",
      "  inflating: data/names/Czech.txt    \n",
      "  inflating: data/names/Dutch.txt    \n",
      "  inflating: data/names/English.txt  \n",
      "  inflating: data/names/French.txt   \n",
      "  inflating: data/names/German.txt   \n",
      "  inflating: data/names/Greek.txt    \n",
      "  inflating: data/names/Irish.txt    \n",
      "  inflating: data/names/Italian.txt  \n",
      "  inflating: data/names/Japanese.txt  \n",
      "  inflating: data/names/Korean.txt   \n",
      "  inflating: data/names/Polish.txt   \n",
      "  inflating: data/names/Portuguese.txt  \n",
      "  inflating: data/names/Russian.txt  \n",
      "  inflating: data/names/Scottish.txt  \n",
      "  inflating: data/names/Spanish.txt  \n",
      "  inflating: data/names/Vietnamese.txt  \n",
      "data  data.zip\tdrive  sample_data\n"
     ]
    }
   ],
   "source": [
    "!wget https://download.pytorch.org/tutorial/data.zip\n",
    "!unzip data.zip\n",
    "!ls"
   ]
  },
  {
   "cell_type": "code",
   "execution_count": 0,
   "metadata": {
    "colab": {},
    "colab_type": "code",
    "id": "IGZLdMtDUfxu"
   },
   "outputs": [],
   "source": [
    "%matplotlib inline"
   ]
  },
  {
   "cell_type": "markdown",
   "metadata": {
    "colab_type": "text",
    "id": "KNkkHixNUfxz"
   },
   "source": [
    "\n",
    "Classifying Names with a Character-Level RNN\n",
    "*********************************************\n",
    "**Author**: `Sean Robertson <https://github.com/spro/practical-pytorch>`_\n",
    "\n",
    "We will be building and training a basic character-level RNN to classify\n",
    "words. A character-level RNN reads words as a series of characters -\n",
    "outputting a prediction and \"hidden state\" at each step, feeding its\n",
    "previous hidden state into each next step. We take the final prediction\n",
    "to be the output, i.e. which class the word belongs to.\n",
    "\n",
    "Specifically, we'll train on a few thousand surnames from 18 languages\n",
    "of origin, and predict which language a name is from based on the\n",
    "spelling:\n",
    "\n",
    "::\n",
    "\n",
    "    $ python predict.py Hinton\n",
    "    (-0.47) Scottish\n",
    "    (-1.52) English\n",
    "    (-3.57) Irish\n",
    "\n",
    "    $ python predict.py Schmidhuber\n",
    "    (-0.19) German\n",
    "    (-2.48) Czech\n",
    "    (-2.68) Dutch\n",
    "\n",
    "\n",
    "**Recommended Reading:**\n",
    "\n",
    "I assume you have at least installed PyTorch, know Python, and\n",
    "understand Tensors:\n",
    "\n",
    "-  http://pytorch.org/ For installation instructions\n",
    "-  :doc:`/beginner/deep_learning_60min_blitz` to get started with PyTorch in general\n",
    "-  :doc:`/beginner/pytorch_with_examples` for a wide and deep overview\n",
    "-  :doc:`/beginner/former_torchies_tutorial` if you are former Lua Torch user\n",
    "\n",
    "It would also be useful to know about RNNs and how they work:\n",
    "\n",
    "-  `The Unreasonable Effectiveness of Recurrent Neural\n",
    "   Networks <http://karpathy.github.io/2015/05/21/rnn-effectiveness/>`__\n",
    "   shows a bunch of real life examples\n",
    "-  `Understanding LSTM\n",
    "   Networks <http://colah.github.io/posts/2015-08-Understanding-LSTMs/>`__\n",
    "   is about LSTMs specifically but also informative about RNNs in\n",
    "   general\n",
    "\n",
    "Preparing the Data\n",
    "==================\n",
    "\n",
    ".. Note::\n",
    "   Download the data from\n",
    "   `here <https://download.pytorch.org/tutorial/data.zip>`_\n",
    "   and extract it to the current directory.\n",
    "\n",
    "Included in the ``data/names`` directory are 18 text files named as\n",
    "\"[Language].txt\". Each file contains a bunch of names, one name per\n",
    "line, mostly romanized (but we still need to convert from Unicode to\n",
    "ASCII).\n",
    "\n",
    "We'll end up with a dictionary of lists of names per language,\n",
    "``{language: [names ...]}``. The generic variables \"category\" and \"line\"\n",
    "(for language and name in our case) are used for later extensibility.\n",
    "\n"
   ]
  },
  {
   "cell_type": "code",
   "execution_count": 0,
   "metadata": {
    "colab": {
     "base_uri": "https://localhost:8080/",
     "height": 71
    },
    "colab_type": "code",
    "executionInfo": {
     "elapsed": 404,
     "status": "ok",
     "timestamp": 1564090979778,
     "user": {
      "displayName": "Yuxin Zhu",
      "photoUrl": "https://lh5.googleusercontent.com/-hYMo7dSA0cE/AAAAAAAAAAI/AAAAAAAAAAg/w6TCmr3pmv0/s64/photo.jpg",
      "userId": "03907779306110296845"
     },
     "user_tz": 240
    },
    "id": "MfLSXwTHUfxz",
    "outputId": "33c325dd-7463-4087-83eb-d171a8acad32"
   },
   "outputs": [
    {
     "name": "stdout",
     "output_type": "stream",
     "text": [
      "['data/names/Arabic.txt', 'data/names/Dutch.txt', 'data/names/Chinese.txt', 'data/names/Czech.txt', 'data/names/French.txt', 'data/names/English.txt', 'data/names/German.txt', 'data/names/Italian.txt', 'data/names/Greek.txt', 'data/names/Irish.txt', 'data/names/Japanese.txt', 'data/names/Polish.txt', 'data/names/Portuguese.txt', 'data/names/Korean.txt', 'data/names/Vietnamese.txt', 'data/names/Scottish.txt', 'data/names/Spanish.txt', 'data/names/Russian.txt']\n",
      "Slusarski\n"
     ]
    }
   ],
   "source": [
    "from __future__ import unicode_literals, print_function, division\n",
    "from google.colab import drive\n",
    "from io import open\n",
    "import glob\n",
    "import os\n",
    "import random\n",
    "\n",
    "os.chdir('/content/drive/My Drive/Colab Notebooks/')\n",
    "\n",
    "def findFiles(path): return glob.glob(path)\n",
    "\n",
    "print(findFiles('data/names/*.txt'))\n",
    "\n",
    "import unicodedata\n",
    "import string\n",
    "import math\n",
    "\n",
    "all_letters = string.ascii_letters + \" .,;'\"\n",
    "n_letters = len(all_letters)\n",
    "\n",
    "# Turn a Unicode string to plain ASCII, thanks to http://stackoverflow.com/a/518232/2809427\n",
    "def unicodeToAscii(s):\n",
    "    return ''.join(\n",
    "        c for c in unicodedata.normalize('NFD', s)\n",
    "        if unicodedata.category(c) != 'Mn'\n",
    "        and c in all_letters\n",
    "    )\n",
    "\n",
    "print(unicodeToAscii('Ślusàrski'))\n",
    "\n",
    "# Build the category_lines dictionary, a list of names per language\n",
    "category_lines = {}\n",
    "train_data = {}\n",
    "test_data = {}\n",
    "all_categories = []\n",
    "\n",
    "# Read a file and split into lines\n",
    "def readLines(filename):\n",
    "    lines = open(filename, encoding='utf-8').read().strip().split('\\n')\n",
    "    return [unicodeToAscii(line) for line in lines]\n",
    "\n",
    "for filename in findFiles('data/names/*.txt'):\n",
    "    category = os.path.splitext(os.path.basename(filename))[0]\n",
    "    all_categories.append(category)\n",
    "    lines = readLines(filename)\n",
    "    random.shuffle(lines)\n",
    "    train_data[category] = lines[0:int(math.floor(0.8*len(lines)))]\n",
    "    test_data[category] = lines[int(math.floor(0.8*len(lines)))+1:]\n",
    "    category_lines[category] = lines\n",
    "\n",
    "n_categories = len(all_categories)"
   ]
  },
  {
   "cell_type": "markdown",
   "metadata": {
    "colab_type": "text",
    "id": "lPlBRkDuUfx2"
   },
   "source": [
    "Now we have ``category_lines``, a dictionary mapping each category\n",
    "(language) to a list of lines (names). We also kept track of\n",
    "``all_categories`` (just a list of languages) and ``n_categories`` for\n",
    "later reference.\n",
    "\n",
    "\n"
   ]
  },
  {
   "cell_type": "code",
   "execution_count": 0,
   "metadata": {
    "colab": {
     "base_uri": "https://localhost:8080/",
     "height": 34
    },
    "colab_type": "code",
    "executionInfo": {
     "elapsed": 390,
     "status": "ok",
     "timestamp": 1564087464393,
     "user": {
      "displayName": "Yuxin Zhu",
      "photoUrl": "https://lh5.googleusercontent.com/-hYMo7dSA0cE/AAAAAAAAAAI/AAAAAAAAAAg/w6TCmr3pmv0/s64/photo.jpg",
      "userId": "03907779306110296845"
     },
     "user_tz": 240
    },
    "id": "VKlnBNIjUfx2",
    "outputId": "8f769952-9fc2-4f43-e425-7ab19f0c79ea"
   },
   "outputs": [
    {
     "name": "stdout",
     "output_type": "stream",
     "text": [
      "['Battaglia', 'Benetton', 'Vestri', 'Filippi', 'Agani']\n"
     ]
    }
   ],
   "source": [
    "print(category_lines['Italian'][:5])"
   ]
  },
  {
   "cell_type": "markdown",
   "metadata": {
    "colab_type": "text",
    "id": "I5SGUIMRUfx4"
   },
   "source": [
    "Turning Names into Tensors\n",
    "--------------------------\n",
    "\n",
    "Now that we have all the names organized, we need to turn them into\n",
    "Tensors to make any use of them.\n",
    "\n",
    "To represent a single letter, we use a \"one-hot vector\" of size\n",
    "``<1 x n_letters>``. A one-hot vector is filled with 0s except for a 1\n",
    "at index of the current letter, e.g. ``\"b\" = <0 1 0 0 0 ...>``.\n",
    "\n",
    "To make a word we join a bunch of those into a 2D matrix\n",
    "``<line_length x 1 x n_letters>``.\n",
    "\n",
    "That extra 1 dimension is because PyTorch assumes everything is in\n",
    "batches - we're just using a batch size of 1 here.\n",
    "\n",
    "\n"
   ]
  },
  {
   "cell_type": "code",
   "execution_count": 0,
   "metadata": {
    "colab": {
     "base_uri": "https://localhost:8080/",
     "height": 102
    },
    "colab_type": "code",
    "executionInfo": {
     "elapsed": 556,
     "status": "ok",
     "timestamp": 1564090984660,
     "user": {
      "displayName": "Yuxin Zhu",
      "photoUrl": "https://lh5.googleusercontent.com/-hYMo7dSA0cE/AAAAAAAAAAI/AAAAAAAAAAg/w6TCmr3pmv0/s64/photo.jpg",
      "userId": "03907779306110296845"
     },
     "user_tz": 240
    },
    "id": "SPFamDJVUfx5",
    "outputId": "0556c23e-4090-4166-bee6-77821472bd19"
   },
   "outputs": [
    {
     "name": "stdout",
     "output_type": "stream",
     "text": [
      "tensor([[0., 0., 0., 0., 0., 0., 0., 0., 0., 0., 0., 0., 0., 0., 0., 0., 0., 0.,\n",
      "         0., 0., 0., 0., 0., 0., 0., 0., 0., 0., 0., 0., 0., 0., 0., 0., 0., 1.,\n",
      "         0., 0., 0., 0., 0., 0., 0., 0., 0., 0., 0., 0., 0., 0., 0., 0., 0., 0.,\n",
      "         0., 0., 0.]])\n",
      "torch.Size([5, 1, 57])\n"
     ]
    }
   ],
   "source": [
    "import torch\n",
    "\n",
    "# Find letter index from all_letters, e.g. \"a\" = 0\n",
    "def letterToIndex(letter):\n",
    "    return all_letters.find(letter)\n",
    "\n",
    "# Just for demonstration, turn a letter into a <1 x n_letters> Tensor\n",
    "def letterToTensor(letter):\n",
    "    tensor = torch.zeros(1, n_letters)\n",
    "    tensor[0][letterToIndex(letter)] = 1\n",
    "    return tensor\n",
    "\n",
    "# Turn a line into a <line_length x 1 x n_letters>,\n",
    "# or an array of one-hot letter vectors\n",
    "def lineToTensor(line):\n",
    "    tensor = torch.zeros(len(line), 1, n_letters)\n",
    "    for li, letter in enumerate(line):\n",
    "        tensor[li][0][letterToIndex(letter)] = 1\n",
    "    return tensor\n",
    "\n",
    "print(letterToTensor('J'))\n",
    "\n",
    "print(lineToTensor('Jones').size())"
   ]
  },
  {
   "cell_type": "markdown",
   "metadata": {
    "colab_type": "text",
    "id": "FBQkCWy_Ufx7"
   },
   "source": [
    "Creating the Network\n",
    "====================\n",
    "\n",
    "Before autograd, creating a recurrent neural network in Torch involved\n",
    "cloning the parameters of a layer over several timesteps. The layers\n",
    "held hidden state and gradients which are now entirely handled by the\n",
    "graph itself. This means you can implement a RNN in a very \"pure\" way,\n",
    "as regular feed-forward layers.\n",
    "\n",
    "This RNN module (mostly copied from `the PyTorch for Torch users\n",
    "tutorial <http://pytorch.org/tutorials/beginner/former_torchies/\n",
    "nn_tutorial.html#example-2-recurrent-net>`__)\n",
    "is just 2 linear layers which operate on an input and hidden state, with\n",
    "a LogSoftmax layer after the output.\n",
    "\n",
    ".. figure:: https://i.imgur.com/Z2xbySO.png\n",
    "   :alt:\n",
    "\n",
    "\n",
    "\n"
   ]
  },
  {
   "cell_type": "code",
   "execution_count": 0,
   "metadata": {
    "colab": {},
    "colab_type": "code",
    "id": "nAJSP2rTUfx8"
   },
   "outputs": [],
   "source": [
    "import torch.nn as nn\n",
    "from torch.autograd import Variable\n",
    "\n",
    "class RNN(nn.Module):\n",
    "    def __init__(self, input_size, hidden_size, output_size):\n",
    "        super(RNN, self).__init__()\n",
    "\n",
    "        self.hidden_size = hidden_size\n",
    "\n",
    "        self.i2h = nn.Linear(input_size + hidden_size, hidden_size)\n",
    "        self.i2o = nn.Linear(input_size + hidden_size, output_size)\n",
    "        self.softmax = nn.LogSoftmax(dim=1)\n",
    "\n",
    "    def forward(self, input, hidden):\n",
    "        combined = torch.cat((input, hidden), 1)\n",
    "        hidden = self.i2h(combined)\n",
    "        output = self.i2o(combined)\n",
    "        output = self.softmax(output)\n",
    "        return output, hidden\n",
    "\n",
    "    def initHidden(self):\n",
    "        return torch.zeros(1, self.hidden_size)\n",
    "\n",
    "n_hidden = 128\n",
    "rnn = RNN(n_letters, n_hidden, n_categories)"
   ]
  },
  {
   "cell_type": "markdown",
   "metadata": {
    "colab_type": "text",
    "id": "fhxOqo0mUfx-"
   },
   "source": [
    "To run a step of this network we need to pass an input (in our case, the\n",
    "Tensor for the current letter) and a previous hidden state (which we\n",
    "initialize as zeros at first). We'll get back the output (probability of\n",
    "each language) and a next hidden state (which we keep for the next\n",
    "step).\n",
    "\n",
    "\n"
   ]
  },
  {
   "cell_type": "code",
   "execution_count": 0,
   "metadata": {
    "colab": {},
    "colab_type": "code",
    "id": "5zjQ-ZXbUfx-"
   },
   "outputs": [],
   "source": [
    "input = letterToTensor('A')\n",
    "hidden =torch.zeros(1, n_hidden)\n",
    "\n",
    "output, next_hidden = rnn(input, hidden)"
   ]
  },
  {
   "cell_type": "markdown",
   "metadata": {
    "colab_type": "text",
    "id": "juc150V5UfyB"
   },
   "source": [
    "For the sake of efficiency we don't want to be creating a new Tensor for\n",
    "every step, so we will use ``lineToTensor`` instead of\n",
    "``letterToTensor`` and use slices. This could be further optimized by\n",
    "pre-computing batches of Tensors.\n",
    "\n",
    "\n"
   ]
  },
  {
   "cell_type": "code",
   "execution_count": 0,
   "metadata": {
    "colab": {
     "base_uri": "https://localhost:8080/",
     "height": 68
    },
    "colab_type": "code",
    "executionInfo": {
     "elapsed": 411,
     "status": "ok",
     "timestamp": 1564091006973,
     "user": {
      "displayName": "Yuxin Zhu",
      "photoUrl": "https://lh5.googleusercontent.com/-hYMo7dSA0cE/AAAAAAAAAAI/AAAAAAAAAAg/w6TCmr3pmv0/s64/photo.jpg",
      "userId": "03907779306110296845"
     },
     "user_tz": 240
    },
    "id": "hLpj5ZVPUfyB",
    "outputId": "17d1a6d5-172d-42a5-fd54-d6927a366a2e"
   },
   "outputs": [
    {
     "name": "stdout",
     "output_type": "stream",
     "text": [
      "tensor([[-2.9114, -2.9319, -2.9313, -2.9246, -2.9609, -2.9266, -2.8473, -2.9052,\n",
      "         -2.9015, -2.9138, -2.8635, -2.8953, -2.9430, -2.7950, -2.8822, -2.8326,\n",
      "         -2.8252, -2.8533]], grad_fn=<LogSoftmaxBackward>)\n"
     ]
    }
   ],
   "source": [
    "input = lineToTensor('Albert')\n",
    "hidden = torch.zeros(1, n_hidden)\n",
    "\n",
    "output, next_hidden = rnn(input[0], hidden)\n",
    "print(output)"
   ]
  },
  {
   "cell_type": "markdown",
   "metadata": {
    "colab_type": "text",
    "id": "Wy0E3nCjUfyE"
   },
   "source": [
    "As you can see the output is a ``<1 x n_categories>`` Tensor, where\n",
    "every item is the likelihood of that category (higher is more likely).\n",
    "\n",
    "\n"
   ]
  },
  {
   "cell_type": "markdown",
   "metadata": {
    "colab_type": "text",
    "id": "ukMo68ApUfyF"
   },
   "source": [
    "Training\n",
    "========\n",
    "Preparing for Training\n",
    "----------------------\n",
    "\n",
    "Before going into training we should make a few helper functions. The\n",
    "first is to interpret the output of the network, which we know to be a\n",
    "likelihood of each category. We can use ``Tensor.topk`` to get the index\n",
    "of the greatest value:\n",
    "\n",
    "\n"
   ]
  },
  {
   "cell_type": "code",
   "execution_count": 0,
   "metadata": {
    "colab": {
     "base_uri": "https://localhost:8080/",
     "height": 34
    },
    "colab_type": "code",
    "executionInfo": {
     "elapsed": 415,
     "status": "ok",
     "timestamp": 1564091010152,
     "user": {
      "displayName": "Yuxin Zhu",
      "photoUrl": "https://lh5.googleusercontent.com/-hYMo7dSA0cE/AAAAAAAAAAI/AAAAAAAAAAg/w6TCmr3pmv0/s64/photo.jpg",
      "userId": "03907779306110296845"
     },
     "user_tz": 240
    },
    "id": "bFY_yAVKUfyG",
    "outputId": "d9ad6aff-66b3-46ef-a6b6-f6060a2a38d0"
   },
   "outputs": [
    {
     "name": "stdout",
     "output_type": "stream",
     "text": [
      "('Korean', 13)\n"
     ]
    }
   ],
   "source": [
    "def categoryFromOutput(output):\n",
    "    top_n, top_i = output.topk(1)\n",
    "    category_i = top_i[0].item()\n",
    "    return all_categories[category_i], category_i\n",
    "\n",
    "print(categoryFromOutput(output))"
   ]
  },
  {
   "cell_type": "markdown",
   "metadata": {
    "colab_type": "text",
    "id": "mdDJjeS5UfyJ"
   },
   "source": [
    "We will also want a quick way to get a training example (a name and its\n",
    "language):\n",
    "\n",
    "\n"
   ]
  },
  {
   "cell_type": "code",
   "execution_count": 0,
   "metadata": {
    "colab": {
     "base_uri": "https://localhost:8080/",
     "height": 187
    },
    "colab_type": "code",
    "executionInfo": {
     "elapsed": 445,
     "status": "ok",
     "timestamp": 1564091014122,
     "user": {
      "displayName": "Yuxin Zhu",
      "photoUrl": "https://lh5.googleusercontent.com/-hYMo7dSA0cE/AAAAAAAAAAI/AAAAAAAAAAg/w6TCmr3pmv0/s64/photo.jpg",
      "userId": "03907779306110296845"
     },
     "user_tz": 240
    },
    "id": "nTNx73poUfyK",
    "outputId": "713f6614-15c0-4c89-90a4-9a1c06f95c6d"
   },
   "outputs": [
    {
     "name": "stdout",
     "output_type": "stream",
     "text": [
      "category = Polish / line = Lawniczak\n",
      "category = Spanish / line = Etxebarria\n",
      "category = Scottish / line = Miller\n",
      "category = Portuguese / line = Ferro\n",
      "category = Vietnamese / line = Chu\n",
      "category = Korean / line = Sin\n",
      "category = Irish / line = Cearbhall\n",
      "category = German / line = Acker\n",
      "category = Russian / line = Kalinchenko\n",
      "category = Chinese / line = See \n"
     ]
    }
   ],
   "source": [
    "import random\n",
    "\n",
    "def randomChoice(l):\n",
    "    return l[random.randint(0, len(l) - 1)]\n",
    "\n",
    "def randomTrainingExample():\n",
    "    category = randomChoice(all_categories)\n",
    "    line = randomChoice(train_data[category])\n",
    "    category_tensor = torch.tensor([all_categories.index(category)], dtype=torch.long)\n",
    "    line_tensor = lineToTensor(line)\n",
    "    return category, line, category_tensor, line_tensor\n",
    "\n",
    "for i in range(10):\n",
    "    category, line, category_tensor, line_tensor = randomTrainingExample()\n",
    "    print('category =', category, '/ line =', line)"
   ]
  },
  {
   "cell_type": "markdown",
   "metadata": {
    "colab_type": "text",
    "id": "Z4gnruWLUfyM"
   },
   "source": [
    "Training the Network\n",
    "--------------------\n",
    "\n",
    "Now all it takes to train this network is show it a bunch of examples,\n",
    "have it make guesses, and tell it if it's wrong.\n",
    "\n",
    "For the loss function ``nn.NLLLoss`` is appropriate, since the last\n",
    "layer of the RNN is ``nn.LogSoftmax``.\n",
    "\n",
    "\n"
   ]
  },
  {
   "cell_type": "code",
   "execution_count": 0,
   "metadata": {
    "colab": {},
    "colab_type": "code",
    "id": "b91CnzJPUfyM"
   },
   "outputs": [],
   "source": [
    "criterion = nn.NLLLoss()"
   ]
  },
  {
   "cell_type": "markdown",
   "metadata": {
    "colab_type": "text",
    "id": "FAp0xov1UfyP"
   },
   "source": [
    "Each loop of training will:\n",
    "\n",
    "-  Create input and target tensors\n",
    "-  Create a zeroed initial hidden state\n",
    "-  Read each letter in and\n",
    "\n",
    "   -  Keep hidden state for next letter\n",
    "\n",
    "-  Compare final output to target\n",
    "-  Back-propagate\n",
    "-  Return the output and loss\n",
    "\n",
    "\n"
   ]
  },
  {
   "cell_type": "code",
   "execution_count": 0,
   "metadata": {
    "colab": {},
    "colab_type": "code",
    "id": "ED_i2_CWUfyP"
   },
   "outputs": [],
   "source": [
    "learning_rate = 0.005 # If you set this too high, it might explode. If too low, it might not learn\n",
    "\n",
    "def train(category_tensor, line_tensor):\n",
    "    hidden = rnn.initHidden()\n",
    "\n",
    "    rnn.zero_grad()\n",
    "\n",
    "    for i in range(line_tensor.size()[0]):\n",
    "        output, hidden = rnn(line_tensor[i], hidden)\n",
    "\n",
    "    loss = criterion(output, category_tensor)\n",
    "    loss.backward()\n",
    "\n",
    "    # Add parameters' gradients to their values, multiplied by learning rate\n",
    "    for p in rnn.parameters():\n",
    "        p.data.add_(-learning_rate, p.grad.data)\n",
    "\n",
    "    return output, loss.item()"
   ]
  },
  {
   "cell_type": "code",
   "execution_count": 0,
   "metadata": {
    "colab": {},
    "colab_type": "code",
    "id": "96SUwAgbF222"
   },
   "outputs": [],
   "source": [
    "def timeSince(since):\n",
    "    now = time.time()\n",
    "    s = now - since\n",
    "    m = math.floor(s / 60)\n",
    "    s -= m * 60\n",
    "    return '%dm %ds' % (m, s)\n",
    "\n",
    "# Just return an output given a line\n",
    "def evaluate(line_tensor):\n",
    "    hidden = rnn.initHidden()\n",
    "    for i in range(line_tensor.size()[0]):\n",
    "        output, hidden = rnn(line_tensor[i], hidden)\n",
    "    return output"
   ]
  },
  {
   "cell_type": "markdown",
   "metadata": {
    "colab_type": "text",
    "id": "R9usmP9JUfyR"
   },
   "source": [
    "Now we just have to run that with a bunch of examples. Since the\n",
    "``train`` function returns both the output and loss we can print its\n",
    "guesses and also keep track of loss for plotting. Since there are 1000s\n",
    "of examples we print only every ``print_every`` examples, and take an\n",
    "average of the loss.\n",
    "\n",
    "\n"
   ]
  },
  {
   "cell_type": "code",
   "execution_count": 0,
   "metadata": {
    "colab": {
     "base_uri": "https://localhost:8080/",
     "height": 357
    },
    "colab_type": "code",
    "executionInfo": {
     "elapsed": 317403,
     "status": "ok",
     "timestamp": 1564087849237,
     "user": {
      "displayName": "Yuxin Zhu",
      "photoUrl": "https://lh5.googleusercontent.com/-hYMo7dSA0cE/AAAAAAAAAAI/AAAAAAAAAAg/w6TCmr3pmv0/s64/photo.jpg",
      "userId": "03907779306110296845"
     },
     "user_tz": 240
    },
    "id": "q-EUziAlUfyS",
    "outputId": "11b1fdf1-e8a0-44e4-a0bc-03e65d927282"
   },
   "outputs": [
    {
     "name": "stdout",
     "output_type": "stream",
     "text": [
      "5000 5% (0m 13s) 1.5501 Mei / Chinese ✓\n",
      "10000 10% (0m 29s) 2.4105 Grygarova / Spanish ✗ (Czech)\n",
      "15000 15% (0m 45s) 0.7498 Fei / Chinese ✓\n",
      "20000 20% (1m 1s) 2.4540 Geyer / German ✗ (English)\n",
      "25000 25% (1m 17s) 2.0439 Nam / Vietnamese ✗ (Korean)\n",
      "30000 30% (1m 33s) 0.7266 Madeira / Portuguese ✓\n",
      "35000 35% (1m 48s) 0.0558 Filipowski / Polish ✓\n",
      "40000 40% (2m 4s) 5.7429 Jarzembowski / Polish ✗ (Czech)\n",
      "45000 45% (2m 20s) 1.3018 Venn / Dutch ✓\n",
      "50000 50% (2m 36s) 0.3410 Jong / Korean ✓\n",
      "55000 55% (2m 52s) 1.5268 Mayer / German ✓\n",
      "60000 60% (3m 7s) 0.0316 Strilakos / Greek ✓\n",
      "65000 65% (3m 23s) 1.7989 Oquendo / Irish ✗ (Spanish)\n",
      "70000 70% (3m 39s) 1.1446 Savchak / Polish ✗ (Czech)\n",
      "75000 75% (3m 55s) 0.8093 Cha / Korean ✓\n",
      "80000 80% (4m 11s) 6.6430 Gerges / Portuguese ✗ (Arabic)\n",
      "85000 85% (4m 27s) 0.1564 Ryu / Korean ✓\n",
      "90000 90% (4m 42s) 2.4456 Molina / Czech ✗ (Spanish)\n",
      "95000 95% (4m 58s) 0.5521 Rahal / Arabic ✓\n",
      "100000 100% (5m 14s) 1.8639 Abadi / Italian ✗ (Arabic)\n"
     ]
    }
   ],
   "source": [
    "import time\n",
    "import math\n",
    "\n",
    "n_iters = 100000\n",
    "print_every = 5000\n",
    "plot_every = 1000\n",
    "\n",
    "\n",
    "\n",
    "# Keep track of losses for plotting\n",
    "current_loss = 0\n",
    "all_losses = []\n",
    "all_test_losses = []\n",
    "  \n",
    "  \n",
    "start = time.time()\n",
    "\n",
    "for iter in range(1, n_iters + 1):\n",
    "    category, line, category_tensor, line_tensor = randomTrainingExample()\n",
    "    output, loss = train(category_tensor, line_tensor)\n",
    "    current_loss += loss\n",
    "\n",
    "    # Print iter number, loss, name and guess\n",
    "    if iter % print_every == 0:\n",
    "        guess, guess_i = categoryFromOutput(output)\n",
    "        correct = '✓' if guess == category else '✗ (%s)' % category\n",
    "        print('%d %d%% (%s) %.4f %s / %s %s' % (iter, iter / n_iters * 100, timeSince(start), loss, line, guess, correct))\n",
    "\n",
    "    # Add current loss avg to list of losses\n",
    "    if iter % plot_every == 0:\n",
    "        all_losses.append(current_loss / plot_every)\n",
    "        current_loss = 0\n",
    "        \n",
    "    # Compute loss based on test data\n",
    "    if iter % plot_every == 0:\n",
    "        test_loss = 0\n",
    "        n_test_instances = 0\n",
    "        for category in all_categories:\n",
    "            category_tensor = Variable(torch.LongTensor([all_categories.index(category)]))\n",
    "            n_test_instances = n_test_instances + len(test_data[category])\n",
    "            for line in test_data[category]:\n",
    "                line_tensor = Variable(lineToTensor(line))\n",
    "                output = evaluate(line_tensor)\n",
    "                test_loss = test_loss + criterion(output, category_tensor)\n",
    "        all_test_losses.append(test_loss.item() / n_test_instances)\n",
    "\n",
    "linear_losses = all_test_losses"
   ]
  },
  {
   "cell_type": "code",
   "execution_count": 0,
   "metadata": {
    "colab": {
     "base_uri": "https://localhost:8080/",
     "height": 54
    },
    "colab_type": "code",
    "executionInfo": {
     "elapsed": 454,
     "status": "ok",
     "timestamp": 1564087911434,
     "user": {
      "displayName": "Yuxin Zhu",
      "photoUrl": "https://lh5.googleusercontent.com/-hYMo7dSA0cE/AAAAAAAAAAI/AAAAAAAAAAg/w6TCmr3pmv0/s64/photo.jpg",
      "userId": "03907779306110296845"
     },
     "user_tz": 240
    },
    "id": "wKSD4Vkt52JW",
    "outputId": "eafe6ba5-efad-48ba-d83c-b773b3a38fda"
   },
   "outputs": [
    {
     "name": "stdout",
     "output_type": "stream",
     "text": [
      "[2.5065619730514612, 2.6292973141237823, 2.5764941430645765, 2.531332457687984, 2.366459286394579, 2.081824129949413, 2.285681978750312, 2.121832697742318, 2.2162862716244067, 2.0909039899762676, 2.0651235206407694, 2.043533999890707, 1.8904022666593805, 1.8658496362103423, 2.0247734121284036, 1.9193094193027105, 1.821162814412628, 1.7850950166281538, 1.946896517065326, 2.035426433104859, 1.8585344438936422, 2.1143978441949787, 1.685175815404072, 1.684542013411816, 1.821832112243942, 1.7821593521655634, 1.695351777182738, 1.6189557050961778, 1.770854354351424, 1.9030448843055208, 1.80732602403666, 1.7536319196149763, 1.637118108684112, 1.725035812984012, 1.528174059884774, 1.499434384172808, 1.8163537991037972, 1.7000263718226956, 1.5928863898950787, 1.8989588375124906, 1.7957575519532225, 1.7159653453269423, 1.7621294527151512, 1.6653837746689983, 1.6844856591931052, 1.479874835084624, 1.4324547117005995, 1.5973852130433426, 1.4721449147514365, 1.7337229011834874, 1.3924745649747066, 1.375404847731389, 1.865060799127217, 1.4798916681629404, 1.4584172954268673, 1.401073462481264, 1.534112111229078, 1.5026497460888708, 1.4162748300103047, 1.5776472089292406, 1.5804860222020984, 1.4824679829971272, 1.4392439313093306, 1.5090476576161629, 1.4442800711966026, 1.3526767765972396, 1.515194048799338, 1.359763380589558, 1.5281902830689482, 1.572852831079815, 1.6238329065700725, 1.4215644419029478, 1.5878124365710093, 1.4609261559689608, 1.682765025839995, 1.542135512623345, 1.5574312917655508, 1.6009894434642769, 1.6088467096942918, 1.3973744545106794, 1.4728207994394829, 1.7733678500889958, 1.388970113235386, 1.4705767549337996, 1.5235961944557208, 1.5727275588230702, 1.419357235003435, 1.4814189650730702, 1.3795627400543342, 1.4170889167109044, 1.3772946657194605, 1.5136144229718336, 1.426790014910692, 1.3800881028681613, 1.3888746038127655, 1.3939901519173121, 1.59826565622658, 1.3835886512849738, 1.4731642918201973, 1.4012195931176616]\n"
     ]
    }
   ],
   "source": [
    "print(linear_losses)"
   ]
  },
  {
   "cell_type": "markdown",
   "metadata": {
    "colab_type": "text",
    "id": "UraEAC3r4lqk"
   },
   "source": [
    "LSTMs hidden units\n",
    "========\n"
   ]
  },
  {
   "cell_type": "code",
   "execution_count": 0,
   "metadata": {
    "colab": {
     "base_uri": "https://localhost:8080/",
     "height": 357
    },
    "colab_type": "code",
    "executionInfo": {
     "elapsed": 952512,
     "status": "ok",
     "timestamp": 1564092071864,
     "user": {
      "displayName": "Yuxin Zhu",
      "photoUrl": "https://lh5.googleusercontent.com/-hYMo7dSA0cE/AAAAAAAAAAI/AAAAAAAAAAg/w6TCmr3pmv0/s64/photo.jpg",
      "userId": "03907779306110296845"
     },
     "user_tz": 240
    },
    "id": "c0boZ32V4kcS",
    "outputId": "17a88eeb-90aa-4397-a271-07ffdc204785"
   },
   "outputs": [
    {
     "name": "stdout",
     "output_type": "stream",
     "text": [
      "5000 5% (0m 40s) 2.9804 Mahnenko / German ✗ (Russian)\n",
      "10000 10% (1m 28s) 2.8301 Albert / Greek ✗ (French)\n",
      "15000 15% (2m 15s) 2.8218 Sabbagh / Portuguese ✗ (Arabic)\n",
      "20000 20% (3m 3s) 2.7748 Cham / Chinese ✗ (Arabic)\n",
      "25000 25% (3m 50s) 2.3233 Ikeda / Japanese ✓\n",
      "30000 30% (4m 38s) 2.9870 Mcintosh / Russian ✗ (Scottish)\n",
      "35000 35% (5m 25s) 0.8028 Anetakis / Greek ✓\n",
      "40000 40% (6m 13s) 4.1012 Groos / Greek ✗ (German)\n",
      "45000 45% (7m 0s) 2.1305 Daher / German ✗ (Arabic)\n",
      "50000 50% (7m 48s) 1.6606 Mateus / Greek ✗ (Portuguese)\n",
      "55000 55% (8m 35s) 2.0988 Stoep / Scottish ✗ (Dutch)\n",
      "60000 60% (9m 22s) 2.4318 Parris / Greek ✗ (French)\n",
      "65000 65% (10m 10s) 0.8437 Sugita / Japanese ✓\n",
      "70000 70% (10m 57s) 0.9192 Chou / Korean ✓\n",
      "75000 75% (11m 45s) 3.1049 Deeb / German ✗ (Arabic)\n",
      "80000 80% (12m 33s) 2.8003 Bordelon / Scottish ✗ (French)\n",
      "85000 85% (13m 21s) 0.1111 Kozlowski / Polish ✓\n",
      "90000 90% (14m 9s) 1.7146 Legrand / Irish ✗ (French)\n",
      "95000 95% (14m 57s) 1.1791 Brezovjak / Polish ✗ (Czech)\n",
      "100000 100% (15m 45s) 1.2856 Zeng / Korean ✗ (Chinese)\n"
     ]
    }
   ],
   "source": [
    "import torch.nn as nn\n",
    "from torch.autograd import Variable\n",
    "\n",
    "class RNN_LSTM(nn.Module):\n",
    "      \n",
    "    def __init__(self, input_size, hidden_size, output_size):\n",
    "        super(RNN_LSTM, self).__init__()\n",
    "        self.hidden_size = hidden_size\n",
    "        \n",
    "        # The LSTM takes inputs, and outputs hidden states with dimensionality hidden_size.\n",
    "        self.lstm = nn.LSTM(input_size, hidden_size, 1)\n",
    "        self.h2o = nn.Linear(hidden_size, output_size)\n",
    "        self.softmax = nn.LogSoftmax(dim=1)\n",
    "\n",
    "    def forward(self, input, hidden):\n",
    "        input = input.unsqueeze(0)\n",
    "\n",
    "        output, hidden = self.lstm(input, hidden)\n",
    "\n",
    "        output = output.squeeze(0)\n",
    "        output = self.h2o(output)\n",
    "        output = self.softmax(output)\n",
    "        return output, hidden\n",
    "\n",
    "    def initHidden(self):\n",
    "        hidden_state = torch.zeros(1, 1, self.hidden_size)\n",
    "        cell_state = torch.zeros(1, 1, self.hidden_size)\n",
    "        return (hidden_state, cell_state)\n",
    "\n",
    "      \n",
    "criterion = nn.NLLLoss()\n",
    "\n",
    "n_hidden = 128\n",
    "rnn = RNN_LSTM(n_letters, n_hidden, n_categories)\n",
    "\n",
    "\n",
    "import time\n",
    "import math\n",
    "\n",
    "n_iters = 100000\n",
    "print_every = 5000\n",
    "plot_every = 1000\n",
    "\n",
    "current_loss = 0\n",
    "all_losses = []\n",
    "all_test_losses = []\n",
    "\n",
    "  \n",
    "start = time.time()\n",
    "\n",
    "for iter in range(1, n_iters + 1):\n",
    "    category, line, category_tensor, line_tensor = randomTrainingExample()\n",
    "    output, loss = train(category_tensor, line_tensor)\n",
    "\n",
    "    current_loss += loss\n",
    "\n",
    "    # Print iter number, loss, name and guess\n",
    "    if iter % print_every == 0:\n",
    "        guess, guess_i = categoryFromOutput(output)\n",
    "        correct = '✓' if guess == category else '✗ (%s)' % category\n",
    "        print('%d %d%% (%s) %.4f %s / %s %s' % (iter, iter / n_iters * 100, timeSince(start), loss, line, guess, correct))\n",
    "\n",
    "    # Add current loss avg to list of losses\n",
    "    if iter % plot_every == 0:\n",
    "        all_losses.append(current_loss / plot_every)\n",
    "        current_loss = 0\n",
    "        \n",
    "    # Compute loss based on test data\n",
    "    if iter % plot_every == 0:\n",
    "        test_loss = 0\n",
    "        n_test_instances = 0\n",
    "        for category in all_categories:\n",
    "            category_tensor = Variable(torch.LongTensor([all_categories.index(category)]))\n",
    "            n_test_instances = n_test_instances + len(test_data[category])\n",
    "            for line in test_data[category]:\n",
    "                line_tensor = Variable(lineToTensor(line))\n",
    "                output = evaluate(line_tensor)\n",
    "                test_loss = test_loss + criterion(output, category_tensor)\n",
    "        all_test_losses.append(test_loss.item() / n_test_instances)\n",
    "lstm_losses = all_test_losses"
   ]
  },
  {
   "cell_type": "code",
   "execution_count": 0,
   "metadata": {
    "colab": {
     "base_uri": "https://localhost:8080/",
     "height": 54
    },
    "colab_type": "code",
    "executionInfo": {
     "elapsed": 446,
     "status": "ok",
     "timestamp": 1564093442912,
     "user": {
      "displayName": "Yuxin Zhu",
      "photoUrl": "https://lh5.googleusercontent.com/-hYMo7dSA0cE/AAAAAAAAAAI/AAAAAAAAAAg/w6TCmr3pmv0/s64/photo.jpg",
      "userId": "03907779306110296845"
     },
     "user_tz": 240
    },
    "id": "6puy21jsOe6c",
    "outputId": "de366f17-fac4-423d-d799-0df6a7ce07c3"
   },
   "outputs": [
    {
     "name": "stdout",
     "output_type": "stream",
     "text": [
      "[2.944345939763927, 2.9398668771858607, 2.9349455193760927, 2.9041885578003996, 2.9213775703378717, 2.9094548717368225, 2.9106527038315013, 2.849880899871971, 2.873723857497502, 2.855757595865601, 2.840308489336123, 2.8134438721739947, 2.8338780094616536, 2.8369035723207596, 2.7990128009461652, 2.7929650906351484, 2.8456194475237324, 2.766543256620035, 2.696192455267924, 2.690543371768049, 2.6747495530695726, 2.5652903876779916, 2.535079647295778, 2.6406537870034974, 2.5343358204003246, 2.543034130652011, 2.527695536941044, 2.6217360905102423, 2.522942753872096, 2.350341979843243, 2.4541586485916813, 2.3899729011834876, 2.264841408006495, 2.3974428846334, 2.2762722879715214, 2.4894112618661004, 2.2466304568448665, 2.2682124149075693, 2.3094063729546592, 2.129170700099925, 2.0101838904025104, 1.8542877509836373, 1.8437002326380214, 1.876816508712216, 1.8570293471302772, 1.7623952445821884, 1.7119023525324757, 1.816450040399388, 1.680345209842618, 1.670090327761991, 1.8205929293264427, 1.6962461259524106, 1.9615100686204097, 1.8557400309143142, 1.7748398905898701, 1.8023956397935923, 1.7962913313062079, 2.011940995425306, 1.70097475721334, 1.5447452496565077, 1.7166004890863102, 1.572625706501374, 1.6231700736166625, 1.7724294669622782, 1.579313805661379, 1.7749351560548339, 1.730779552054709, 1.6169221960482763, 1.7999098332500625, 1.6092339924743941, 1.440559472973395, 1.651121766097302, 1.5491840592212092, 1.6797938655383462, 1.554655663525793, 1.4284044047042843, 1.4907855973254434, 1.687744811508556, 1.5717964944260554, 1.6239251225643268, 1.3732849776729952, 1.7583403023903947, 1.5694018060673245, 1.4472222005370972, 1.4799581466244067, 1.4883482163767798, 1.4195459362509368, 1.4262136649466026, 1.5284089911082313, 1.384001671597864, 1.3138882410457782, 1.5150005903775294, 1.4404051697554958, 1.4274066178881464, 1.4334854328003996, 1.5686371207922183, 1.5798824709592805, 1.3740683257088433, 1.5331627500078067, 1.4682891639863853]\n"
     ]
    }
   ],
   "source": [
    "print(lstm_losses)"
   ]
  },
  {
   "cell_type": "markdown",
   "metadata": {
    "colab_type": "text",
    "id": "quuqvrci42Y6"
   },
   "source": [
    "GRUs hidden units\n",
    "========\n",
    "\n",
    "\n"
   ]
  },
  {
   "cell_type": "code",
   "execution_count": 0,
   "metadata": {
    "colab": {
     "base_uri": "https://localhost:8080/",
     "height": 357
    },
    "colab_type": "code",
    "executionInfo": {
     "elapsed": 879219,
     "status": "ok",
     "timestamp": 1564093413953,
     "user": {
      "displayName": "Yuxin Zhu",
      "photoUrl": "https://lh5.googleusercontent.com/-hYMo7dSA0cE/AAAAAAAAAAI/AAAAAAAAAAg/w6TCmr3pmv0/s64/photo.jpg",
      "userId": "03907779306110296845"
     },
     "user_tz": 240
    },
    "id": "B6R2QNI045Si",
    "outputId": "0e65e452-c2a4-48a5-c306-4b08a5d84879"
   },
   "outputs": [
    {
     "name": "stdout",
     "output_type": "stream",
     "text": [
      "5000 5% (0m 38s) 2.8163 Walentowicz / Greek ✗ (Polish)\n",
      "10000 10% (1m 21s) 2.6497 Mendoza / Japanese ✗ (Spanish)\n",
      "15000 15% (2m 5s) 1.6771 Rong / Chinese ✓\n",
      "20000 20% (2m 48s) 1.9568 Paterson / Russian ✗ (Scottish)\n",
      "25000 25% (3m 32s) 1.4059 Naldi / Italian ✓\n",
      "30000 30% (4m 15s) 1.5870 Sakellariou / Greek ✓\n",
      "35000 35% (4m 59s) 1.9323 Tchekharin / Irish ✗ (Russian)\n",
      "40000 40% (5m 44s) 3.2050 Amador / Arabic ✗ (Spanish)\n",
      "45000 45% (6m 29s) 0.2232 Gorski / Polish ✓\n",
      "50000 50% (7m 13s) 1.9249 Mcavoy / Irish ✗ (English)\n",
      "55000 55% (7m 57s) 0.7547 Perrault / French ✓\n",
      "60000 60% (8m 40s) 2.4692 Finan / Irish ✗ (English)\n",
      "65000 65% (9m 24s) 1.2750 Naoimhin / Russian ✗ (Irish)\n",
      "70000 70% (10m 8s) 0.4694 Romeijnders / Dutch ✓\n",
      "75000 75% (10m 52s) 2.3344 Boulos / Greek ✗ (Arabic)\n",
      "80000 80% (11m 36s) 1.0575 Bieber / German ✓\n",
      "85000 85% (12m 20s) 1.7963 Casey / Arabic ✗ (Irish)\n",
      "90000 90% (13m 4s) 0.9420 Xun / Chinese ✓\n",
      "95000 95% (13m 48s) 0.9703 Nader / Arabic ✓\n",
      "100000 100% (14m 32s) 4.7315 Sarumara / Portuguese ✗ (Japanese)\n"
     ]
    }
   ],
   "source": [
    "import torch.nn as nn\n",
    "from torch.autograd import Variable\n",
    "\n",
    "class RNN_GRU(nn.Module):\n",
    "      \n",
    "    def __init__(self, input_size, hidden_size, output_size):\n",
    "        super(RNN_GRU, self).__init__()\n",
    "        self.hidden_size = hidden_size\n",
    "        \n",
    "        # The LSTM takes inputs, and outputs hidden states with dimensionality hidden_size.\n",
    "        self.gru = nn.GRU(input_size, hidden_size, 1)\n",
    "        self.h2o = nn.Linear(hidden_size, output_size)\n",
    "        self.softmax = nn.LogSoftmax(dim=1)\n",
    "\n",
    "    def forward(self, input, hidden):\n",
    "        input = input.unsqueeze(0)\n",
    "\n",
    "        output, hidden = self.gru(input, hidden)\n",
    "        \n",
    "        output = output.squeeze(0)\n",
    "        output = self.h2o(output)\n",
    "        output = self.softmax(output)\n",
    "        return output, hidden\n",
    "\n",
    "    def initHidden(self):\n",
    "        hidden_state = torch.zeros(1, 1, self.hidden_size)\n",
    "        return hidden_state\n",
    "\n",
    "      \n",
    "criterion = nn.NLLLoss()\n",
    "\n",
    "n_hidden = 128\n",
    "rnn = RNN_GRU(n_letters, n_hidden, n_categories)\n",
    "\n",
    "\n",
    "import time\n",
    "import math\n",
    "\n",
    "n_iters = 100000\n",
    "print_every = 5000\n",
    "plot_every = 1000\n",
    "\n",
    "current_loss = 0\n",
    "all_losses = []\n",
    "all_test_losses = []\n",
    "\n",
    "  \n",
    "start = time.time()\n",
    "\n",
    "for iter in range(1, n_iters + 1):\n",
    "    category, line, category_tensor, line_tensor = randomTrainingExample()\n",
    "    output, loss = train(category_tensor, line_tensor)\n",
    "\n",
    "    current_loss += loss\n",
    "\n",
    "    # Print iter number, loss, name and guess\n",
    "    if iter % print_every == 0:\n",
    "        guess, guess_i = categoryFromOutput(output)\n",
    "        correct = '✓' if guess == category else '✗ (%s)' % category\n",
    "        print('%d %d%% (%s) %.4f %s / %s %s' % (iter, iter / n_iters * 100, timeSince(start), loss, line, guess, correct))\n",
    "\n",
    "    # Add current loss avg to list of losses\n",
    "    if iter % plot_every == 0:\n",
    "        all_losses.append(current_loss / plot_every)\n",
    "        current_loss = 0\n",
    "        \n",
    "    # Compute loss based on test data\n",
    "    if iter % plot_every == 0:\n",
    "        test_loss = 0\n",
    "        n_test_instances = 0\n",
    "        for category in all_categories:\n",
    "            category_tensor = Variable(torch.LongTensor([all_categories.index(category)]))\n",
    "            n_test_instances = n_test_instances + len(test_data[category])\n",
    "            for line in test_data[category]:\n",
    "                line_tensor = Variable(lineToTensor(line))\n",
    "                output = evaluate(line_tensor)\n",
    "                test_loss = test_loss + criterion(output, category_tensor)\n",
    "        all_test_losses.append(test_loss.item() / n_test_instances)\n",
    "gru_losses = all_test_losses"
   ]
  },
  {
   "cell_type": "code",
   "execution_count": 0,
   "metadata": {
    "colab": {
     "base_uri": "https://localhost:8080/",
     "height": 54
    },
    "colab_type": "code",
    "executionInfo": {
     "elapsed": 444,
     "status": "ok",
     "timestamp": 1564093438916,
     "user": {
      "displayName": "Yuxin Zhu",
      "photoUrl": "https://lh5.googleusercontent.com/-hYMo7dSA0cE/AAAAAAAAAAI/AAAAAAAAAAg/w6TCmr3pmv0/s64/photo.jpg",
      "userId": "03907779306110296845"
     },
     "user_tz": 240
    },
    "id": "iZL4Wbk9O8MF",
    "outputId": "d901acc5-06ad-422b-9e74-9520abdfba26"
   },
   "outputs": [
    {
     "name": "stdout",
     "output_type": "stream",
     "text": [
      "[2.9113465194073194, 2.9009424572195854, 2.8952970330845615, 2.8566748766550085, 2.810637383290657, 2.846513796293405, 2.7777126139770174, 2.8083902893142643, 2.7897416781164126, 2.7155443963902073, 2.7924364343929553, 2.7418715748344993, 2.573411982029103, 2.558220738742818, 2.5528673319229327, 2.479355327254559, 2.247334518642268, 2.2346901932925305, 2.297422197024107, 2.151024426992256, 2.2396876658912066, 2.1738488614008245, 2.055432790641394, 2.0292361295434675, 2.073001645250437, 1.9390613290032475, 1.8789441854156257, 1.8872621656804272, 1.876914823647889, 1.8058444691871722, 1.7889821159520984, 1.7750371303553585, 1.6786388480124281, 1.693914012732638, 1.7117099919201224, 1.6686092608278167, 1.7918184896483886, 1.8139197115835, 1.6320898974206846, 1.7813098916047339, 1.6299192841696852, 1.545914538705346, 1.5839127734277416, 1.5223821391768673, 1.6649963699100674, 1.5472770422183362, 1.5056450581985386, 1.6538210355904945, 1.73230075002342, 1.586295385882463, 1.5411033277776043, 1.7474608887084686, 1.5626645494394829, 1.6188528769438546, 1.6184676678038346, 1.6335688907147765, 1.4428695080252312, 1.5357333318370596, 1.465153576224082, 1.4355634641206596, 1.4735282766440794, 1.5535407770344116, 1.5446843822211467, 1.522704773177929, 1.3671329754637147, 1.468033374383275, 1.666811170918686, 1.4373881454143767, 1.3658229228469274, 1.4520269465869349, 1.487333352524669, 1.4025733141550087, 1.5199945255901823, 1.3176738539845116, 1.334094887818511, 1.3817782415141768, 1.4115509559236823, 1.4290466232356982, 1.3797777887287659, 1.4243599526917312, 1.3495327722957782, 1.455177049829815, 1.4425141836981639, 1.2468789277182737, 1.2536477768626655, 1.6333476211200975, 1.4671249980483387, 1.3150521630261678, 1.3969777793607918, 1.4030515931410816, 1.359189836138521, 1.432288942472833, 1.2422200683471771, 1.423400345248876, 1.4496655584483513, 1.3805600389551587, 1.3079589721771172, 1.562767011655321, 1.2407765708921434, 1.2878629602017237]\n"
     ]
    }
   ],
   "source": [
    "print(gru_losses)"
   ]
  },
  {
   "cell_type": "markdown",
   "metadata": {
    "colab_type": "text",
    "id": "3mFqhbXRUfyU"
   },
   "source": [
    "Plotting the Results\n",
    "========\n",
    "\n",
    "Plotting the historical loss from ``all_losses`` shows the network\n",
    "learning:\n",
    "\n",
    "\n"
   ]
  },
  {
   "cell_type": "code",
   "execution_count": 0,
   "metadata": {
    "colab": {
     "base_uri": "https://localhost:8080/",
     "height": 295
    },
    "colab_type": "code",
    "executionInfo": {
     "elapsed": 848,
     "status": "ok",
     "timestamp": 1564093913298,
     "user": {
      "displayName": "Yuxin Zhu",
      "photoUrl": "https://lh5.googleusercontent.com/-hYMo7dSA0cE/AAAAAAAAAAI/AAAAAAAAAAg/w6TCmr3pmv0/s64/photo.jpg",
      "userId": "03907779306110296845"
     },
     "user_tz": 240
    },
    "id": "Lmzptk6_NmH3",
    "outputId": "e379d05d-5ca0-49b0-a0e7-aa94abb11b8a"
   },
   "outputs": [
    {
     "data": {
      "image/png": "[encoded data removed]",
      "text/plain": [
       "<Figure size 432x288 with 1 Axes>"
      ]
     },
     "metadata": {
      "tags": []
     },
     "output_type": "display_data"
    }
   ],
   "source": [
    "import matplotlib.pyplot as plt\n",
    "\n",
    "plt.plot(linear_losses, label='linear units')\n",
    "plt.plot(lstm_losses, label='LSTM units')\n",
    "plt.plot(gru_losses, label='GRU units')\n",
    "\n",
    "plt.xlabel('number of thousands of iterations')\n",
    "plt.ylabel('test negative log likelihood')\n",
    "plt.title('Accuracy of the encoder for different types of hidden units')\n",
    "plt.legend()\n",
    "plt.show()"
   ]
  },
  {
   "cell_type": "markdown",
   "metadata": {
    "colab_type": "text",
    "id": "rs5yHF_cUfyY"
   },
   "source": [
    "Evaluating the Results\n",
    "======================\n",
    "\n",
    "To see how well the network performs on different categories, we will\n",
    "create a confusion matrix, indicating for every actual language (rows)\n",
    "which language the network guesses (columns). To calculate the confusion\n",
    "matrix a bunch of samples are run through the network with\n",
    "``evaluate()``, which is the same as ``train()`` minus the backprop.\n",
    "\n",
    "\n"
   ]
  },
  {
   "cell_type": "code",
   "execution_count": 0,
   "metadata": {
    "colab": {
     "base_uri": "https://localhost:8080/",
     "height": 321
    },
    "colab_type": "code",
    "executionInfo": {
     "elapsed": 5971,
     "status": "ok",
     "timestamp": 1564087982769,
     "user": {
      "displayName": "Yuxin Zhu",
      "photoUrl": "https://lh5.googleusercontent.com/-hYMo7dSA0cE/AAAAAAAAAAI/AAAAAAAAAAg/w6TCmr3pmv0/s64/photo.jpg",
      "userId": "03907779306110296845"
     },
     "user_tz": 240
    },
    "id": "El-a2qJvUfyZ",
    "outputId": "ed43a5b4-5a76-4af5-9b10-9d5438de528e"
   },
   "outputs": [
    {
     "data": {
      "image/png": "[encoded data removed]",
      "text/plain": [
       "<Figure size 432x288 with 2 Axes>"
      ]
     },
     "metadata": {
      "tags": []
     },
     "output_type": "display_data"
    }
   ],
   "source": [
    "# Keep track of correct guesses in a confusion matrix\n",
    "confusion = torch.zeros(n_categories, n_categories)\n",
    "n_confusion = 10000\n",
    "\n",
    "# Go through a bunch of examples and record which are correctly guessed\n",
    "for i in range(n_confusion):\n",
    "    category, line, category_tensor, line_tensor = randomTrainingExample()\n",
    "    output = evaluate(line_tensor)\n",
    "    guess, guess_i = categoryFromOutput(output)\n",
    "    category_i = all_categories.index(category)\n",
    "    confusion[category_i][guess_i] += 1\n",
    "\n",
    "# Normalize by dividing every row by its sum\n",
    "for i in range(n_categories):\n",
    "    confusion[i] = confusion[i] / confusion[i].sum()\n",
    "\n",
    "# Set up plot\n",
    "fig = plt.figure()\n",
    "ax = fig.add_subplot(111)\n",
    "cax = ax.matshow(confusion.numpy())\n",
    "fig.colorbar(cax)\n",
    "\n",
    "# Set up axes\n",
    "ax.set_xticklabels([''] + all_categories, rotation=90)\n",
    "ax.set_yticklabels([''] + all_categories)\n",
    "\n",
    "# Force label at every tick\n",
    "ax.xaxis.set_major_locator(ticker.MultipleLocator(1))\n",
    "ax.yaxis.set_major_locator(ticker.MultipleLocator(1))\n",
    "\n",
    "# sphinx_gallery_thumbnail_number = 2\n",
    "plt.show()"
   ]
  },
  {
   "cell_type": "markdown",
   "metadata": {
    "colab_type": "text",
    "id": "DwU9mA1QUfyb"
   },
   "source": [
    "You can pick out bright spots off the main axis that show which\n",
    "languages it guesses incorrectly, e.g. Chinese for Korean, and Spanish\n",
    "for Italian. It seems to do very well with Greek, and very poorly with\n",
    "English (perhaps because of overlap with other languages).\n",
    "\n",
    "\n"
   ]
  },
  {
   "cell_type": "markdown",
   "metadata": {
    "colab_type": "text",
    "id": "gWg7ObZAUfyc"
   },
   "source": [
    "Running on User Input\n",
    "---------------------\n",
    "\n",
    "\n"
   ]
  },
  {
   "cell_type": "code",
   "execution_count": 0,
   "metadata": {
    "colab": {
     "base_uri": "https://localhost:8080/",
     "height": 272
    },
    "colab_type": "code",
    "executionInfo": {
     "elapsed": 429,
     "status": "ok",
     "timestamp": 1564087987552,
     "user": {
      "displayName": "Yuxin Zhu",
      "photoUrl": "https://lh5.googleusercontent.com/-hYMo7dSA0cE/AAAAAAAAAAI/AAAAAAAAAAg/w6TCmr3pmv0/s64/photo.jpg",
      "userId": "03907779306110296845"
     },
     "user_tz": 240
    },
    "id": "bbWHJnCdUfyc",
    "outputId": "8d0496f2-ca2c-4715-b944-4f612cb7af91"
   },
   "outputs": [
    {
     "name": "stdout",
     "output_type": "stream",
     "text": [
      "\n",
      "> Dovesky\n",
      "(-0.32) Russian\n",
      "(-1.90) Czech\n",
      "(-3.08) Polish\n",
      "\n",
      "> Jackson\n",
      "(-0.54) Scottish\n",
      "(-1.37) English\n",
      "(-3.08) Russian\n",
      "\n",
      "> Satoshi\n",
      "(-0.72) Arabic\n",
      "(-1.41) Italian\n",
      "(-1.85) Japanese\n"
     ]
    }
   ],
   "source": [
    "def predict(input_line, n_predictions=3):\n",
    "    print('\\n> %s' % input_line)\n",
    "    with torch.no_grad():\n",
    "        output = evaluate(lineToTensor(input_line))\n",
    "\n",
    "        # Get top N categories\n",
    "        topv, topi = output.topk(n_predictions, 1, True)\n",
    "        predictions = []\n",
    "\n",
    "        for i in range(n_predictions):\n",
    "            value = topv[0][i].item()\n",
    "            category_index = topi[0][i].item()\n",
    "            print('(%.2f) %s' % (value, all_categories[category_index]))\n",
    "            predictions.append([value, all_categories[category_index]])\n",
    "\n",
    "predict('Dovesky')\n",
    "predict('Jackson')\n",
    "predict('Satoshi')"
   ]
  },
  {
   "cell_type": "markdown",
   "metadata": {
    "colab_type": "text",
    "id": "TWQ_XQrfUfyf"
   },
   "source": [
    "The final versions of the scripts `in the Practical PyTorch\n",
    "repo <https://github.com/spro/practical-pytorch/tree/master/char-rnn-classification>`__\n",
    "split the above code into a few files:\n",
    "\n",
    "-  ``data.py`` (loads files)\n",
    "-  ``model.py`` (defines the RNN)\n",
    "-  ``train.py`` (runs training)\n",
    "-  ``predict.py`` (runs ``predict()`` with command line arguments)\n",
    "-  ``server.py`` (serve prediction as a JSON API with bottle.py)\n",
    "\n",
    "Run ``train.py`` to train and save the network.\n",
    "\n",
    "Run ``predict.py`` with a name to view predictions:\n",
    "\n",
    "::\n",
    "\n",
    "    $ python predict.py Hazaki\n",
    "    (-0.42) Japanese\n",
    "    (-1.39) Polish\n",
    "    (-3.51) Czech\n",
    "\n",
    "Run ``server.py`` and visit http://localhost:5533/Yourname to get JSON\n",
    "output of predictions.\n",
    "\n",
    "\n"
   ]
  }
 ],
 "metadata": {
  "accelerator": "GPU",
  "colab": {
   "collapsed_sections": [],
   "name": "a5q1a_char_rnn_classification.ipynb",
   "provenance": [
    {
     "file_id": "1aBpNxm_cogOlBvUrckN4t-9qNyzg__qp",
     "timestamp": 1564018504552
    }
   ],
   "version": "0.3.2"
  },
  "kernelspec": {
   "display_name": "Python 3",
   "language": "python",
   "name": "python3"
  },
  "language_info": {
   "codemirror_mode": {
    "name": "ipython",
    "version": 3
   },
   "file_extension": ".py",
   "mimetype": "text/x-python",
   "name": "python",
   "nbconvert_exporter": "python",
   "pygments_lexer": "ipython3",
   "version": "3.7.3"
  }
 },
 "nbformat": 4,
 "nbformat_minor": 1
}
